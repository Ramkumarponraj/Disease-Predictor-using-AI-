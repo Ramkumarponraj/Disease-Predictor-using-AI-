{
 "cells": [
  {
   "cell_type": "code",
   "execution_count": 1,
   "metadata": {
    "colab": {
     "base_uri": "https://localhost:8080/"
    },
    "id": "xo2WpSy-OJGn",
    "outputId": "507593bf-c26e-4129-d4be-36a54e72f21b"
   },
   "outputs": [
    {
     "name": "stdout",
     "output_type": "stream",
     "text": [
      "Tue May  4 16:33:27 2021       \n",
      "+-----------------------------------------------------------------------------+\n",
      "| NVIDIA-SMI 465.19.01    Driver Version: 460.32.03    CUDA Version: 11.2     |\n",
      "|-------------------------------+----------------------+----------------------+\n",
      "| GPU  Name        Persistence-M| Bus-Id        Disp.A | Volatile Uncorr. ECC |\n",
      "| Fan  Temp  Perf  Pwr:Usage/Cap|         Memory-Usage | GPU-Util  Compute M. |\n",
      "|                               |                      |               MIG M. |\n",
      "|===============================+======================+======================|\n",
      "|   0  Tesla K80           Off  | 00000000:00:04.0 Off |                    0 |\n",
      "| N/A   47C    P8    30W / 149W |      0MiB / 11441MiB |      0%      Default |\n",
      "|                               |                      |                  N/A |\n",
      "+-------------------------------+----------------------+----------------------+\n",
      "                                                                               \n",
      "+-----------------------------------------------------------------------------+\n",
      "| Processes:                                                                  |\n",
      "|  GPU   GI   CI        PID   Type   Process name                  GPU Memory |\n",
      "|        ID   ID                                                   Usage      |\n",
      "|=============================================================================|\n",
      "|  No running processes found                                                 |\n",
      "+-----------------------------------------------------------------------------+\n"
     ]
    }
   ],
   "source": [
    "### Check which GPU is in use\n",
    "\n",
    "!nvidia-smi"
   ]
  },
  {
   "cell_type": "code",
   "execution_count": 2,
   "metadata": {
    "colab": {
     "base_uri": "https://localhost:8080/"
    },
    "id": "UygegSdsOjLW",
    "outputId": "c7a808b1-50f1-4d80-f553-10fda908338e"
   },
   "outputs": [
    {
     "name": "stdout",
     "output_type": "stream",
     "text": [
      "Collecting tensorflow-gpu\n",
      "\u001b[?25l  Downloading https://files.pythonhosted.org/packages/85/cc/a27e73cf8b23f2ce4bdd2b7089a42a7819ce6dd7366dceba406ddc5daa9c/tensorflow_gpu-2.4.1-cp37-cp37m-manylinux2010_x86_64.whl (394.3MB)\n",
      "\u001b[K     |████████████████████████████████| 394.3MB 45kB/s \n",
      "\u001b[?25hRequirement already satisfied: astunparse~=1.6.3 in /usr/local/lib/python3.7/dist-packages (from tensorflow-gpu) (1.6.3)\n",
      "Requirement already satisfied: google-pasta~=0.2 in /usr/local/lib/python3.7/dist-packages (from tensorflow-gpu) (0.2.0)\n",
      "Requirement already satisfied: six~=1.15.0 in /usr/local/lib/python3.7/dist-packages (from tensorflow-gpu) (1.15.0)\n",
      "Requirement already satisfied: h5py~=2.10.0 in /usr/local/lib/python3.7/dist-packages (from tensorflow-gpu) (2.10.0)\n",
      "Requirement already satisfied: flatbuffers~=1.12.0 in /usr/local/lib/python3.7/dist-packages (from tensorflow-gpu) (1.12)\n",
      "Requirement already satisfied: keras-preprocessing~=1.1.2 in /usr/local/lib/python3.7/dist-packages (from tensorflow-gpu) (1.1.2)\n",
      "Requirement already satisfied: numpy~=1.19.2 in /usr/local/lib/python3.7/dist-packages (from tensorflow-gpu) (1.19.5)\n",
      "Requirement already satisfied: wheel~=0.35 in /usr/local/lib/python3.7/dist-packages (from tensorflow-gpu) (0.36.2)\n",
      "Requirement already satisfied: protobuf>=3.9.2 in /usr/local/lib/python3.7/dist-packages (from tensorflow-gpu) (3.12.4)\n",
      "Requirement already satisfied: tensorflow-estimator<2.5.0,>=2.4.0 in /usr/local/lib/python3.7/dist-packages (from tensorflow-gpu) (2.4.0)\n",
      "Requirement already satisfied: gast==0.3.3 in /usr/local/lib/python3.7/dist-packages (from tensorflow-gpu) (0.3.3)\n",
      "Requirement already satisfied: typing-extensions~=3.7.4 in /usr/local/lib/python3.7/dist-packages (from tensorflow-gpu) (3.7.4.3)\n",
      "Requirement already satisfied: grpcio~=1.32.0 in /usr/local/lib/python3.7/dist-packages (from tensorflow-gpu) (1.32.0)\n",
      "Requirement already satisfied: termcolor~=1.1.0 in /usr/local/lib/python3.7/dist-packages (from tensorflow-gpu) (1.1.0)\n",
      "Requirement already satisfied: opt-einsum~=3.3.0 in /usr/local/lib/python3.7/dist-packages (from tensorflow-gpu) (3.3.0)\n",
      "Requirement already satisfied: wrapt~=1.12.1 in /usr/local/lib/python3.7/dist-packages (from tensorflow-gpu) (1.12.1)\n",
      "Requirement already satisfied: tensorboard~=2.4 in /usr/local/lib/python3.7/dist-packages (from tensorflow-gpu) (2.4.1)\n",
      "Requirement already satisfied: absl-py~=0.10 in /usr/local/lib/python3.7/dist-packages (from tensorflow-gpu) (0.12.0)\n",
      "Requirement already satisfied: setuptools in /usr/local/lib/python3.7/dist-packages (from protobuf>=3.9.2->tensorflow-gpu) (56.0.0)\n",
      "Requirement already satisfied: tensorboard-plugin-wit>=1.6.0 in /usr/local/lib/python3.7/dist-packages (from tensorboard~=2.4->tensorflow-gpu) (1.8.0)\n",
      "Requirement already satisfied: requests<3,>=2.21.0 in /usr/local/lib/python3.7/dist-packages (from tensorboard~=2.4->tensorflow-gpu) (2.23.0)\n",
      "Requirement already satisfied: google-auth-oauthlib<0.5,>=0.4.1 in /usr/local/lib/python3.7/dist-packages (from tensorboard~=2.4->tensorflow-gpu) (0.4.4)\n",
      "Requirement already satisfied: google-auth<2,>=1.6.3 in /usr/local/lib/python3.7/dist-packages (from tensorboard~=2.4->tensorflow-gpu) (1.28.1)\n",
      "Requirement already satisfied: werkzeug>=0.11.15 in /usr/local/lib/python3.7/dist-packages (from tensorboard~=2.4->tensorflow-gpu) (1.0.1)\n",
      "Requirement already satisfied: markdown>=2.6.8 in /usr/local/lib/python3.7/dist-packages (from tensorboard~=2.4->tensorflow-gpu) (3.3.4)\n",
      "Requirement already satisfied: chardet<4,>=3.0.2 in /usr/local/lib/python3.7/dist-packages (from requests<3,>=2.21.0->tensorboard~=2.4->tensorflow-gpu) (3.0.4)\n",
      "Requirement already satisfied: idna<3,>=2.5 in /usr/local/lib/python3.7/dist-packages (from requests<3,>=2.21.0->tensorboard~=2.4->tensorflow-gpu) (2.10)\n",
      "Requirement already satisfied: urllib3!=1.25.0,!=1.25.1,<1.26,>=1.21.1 in /usr/local/lib/python3.7/dist-packages (from requests<3,>=2.21.0->tensorboard~=2.4->tensorflow-gpu) (1.24.3)\n",
      "Requirement already satisfied: certifi>=2017.4.17 in /usr/local/lib/python3.7/dist-packages (from requests<3,>=2.21.0->tensorboard~=2.4->tensorflow-gpu) (2020.12.5)\n",
      "Requirement already satisfied: requests-oauthlib>=0.7.0 in /usr/local/lib/python3.7/dist-packages (from google-auth-oauthlib<0.5,>=0.4.1->tensorboard~=2.4->tensorflow-gpu) (1.3.0)\n",
      "Requirement already satisfied: pyasn1-modules>=0.2.1 in /usr/local/lib/python3.7/dist-packages (from google-auth<2,>=1.6.3->tensorboard~=2.4->tensorflow-gpu) (0.2.8)\n",
      "Requirement already satisfied: rsa<5,>=3.1.4; python_version >= \"3.6\" in /usr/local/lib/python3.7/dist-packages (from google-auth<2,>=1.6.3->tensorboard~=2.4->tensorflow-gpu) (4.7.2)\n",
      "Requirement already satisfied: cachetools<5.0,>=2.0.0 in /usr/local/lib/python3.7/dist-packages (from google-auth<2,>=1.6.3->tensorboard~=2.4->tensorflow-gpu) (4.2.1)\n",
      "Requirement already satisfied: importlib-metadata; python_version < \"3.8\" in /usr/local/lib/python3.7/dist-packages (from markdown>=2.6.8->tensorboard~=2.4->tensorflow-gpu) (3.10.1)\n",
      "Requirement already satisfied: oauthlib>=3.0.0 in /usr/local/lib/python3.7/dist-packages (from requests-oauthlib>=0.7.0->google-auth-oauthlib<0.5,>=0.4.1->tensorboard~=2.4->tensorflow-gpu) (3.1.0)\n",
      "Requirement already satisfied: pyasn1<0.5.0,>=0.4.6 in /usr/local/lib/python3.7/dist-packages (from pyasn1-modules>=0.2.1->google-auth<2,>=1.6.3->tensorboard~=2.4->tensorflow-gpu) (0.4.8)\n",
      "Requirement already satisfied: zipp>=0.5 in /usr/local/lib/python3.7/dist-packages (from importlib-metadata; python_version < \"3.8\"->markdown>=2.6.8->tensorboard~=2.4->tensorflow-gpu) (3.4.1)\n",
      "Installing collected packages: tensorflow-gpu\n",
      "Successfully installed tensorflow-gpu-2.4.1\n"
     ]
    }
   ],
   "source": [
    "!pip install tensorflow-gpu"
   ]
  },
  {
   "cell_type": "code",
   "execution_count": 3,
   "metadata": {
    "colab": {
     "base_uri": "https://localhost:8080/"
    },
    "id": "6jy0WmvwOmF0",
    "outputId": "9f2d7eed-5603-4201-ed2d-7d26f789c8f7"
   },
   "outputs": [
    {
     "name": "stdout",
     "output_type": "stream",
     "text": [
      "2.4.1\n"
     ]
    }
   ],
   "source": [
    "### Installing tensorflow and checking the version\n",
    "\n",
    "import tensorflow as tf\n",
    "print(tf.__version__)"
   ]
  },
  {
   "cell_type": "code",
   "execution_count": 4,
   "metadata": {
    "id": "-u3UFMrjO0_k"
   },
   "outputs": [],
   "source": [
    "# Importing all necessaries libraries\n",
    "\n",
    "from tensorflow.keras.layers import Dense,Flatten,Input,Lambda\n",
    "from tensorflow.keras.models import Model\n",
    "from tensorflow.keras.applications.resnet50 import ResNet50\n",
    "from tensorflow.keras.preprocessing import image\n",
    "from tensorflow.keras.preprocessing.image import load_img,ImageDataGenerator\n",
    "from tensorflow.keras.models import Sequential\n",
    "import pandas as pd\n",
    "import numpy as np\n",
    "from glob import glob"
   ]
  },
  {
   "cell_type": "code",
   "execution_count": 5,
   "metadata": {
    "id": "mXb6DSocO8hA"
   },
   "outputs": [],
   "source": [
    "### Resizing all images\n",
    "\n",
    "IMAGE_SIZE=[224,224]"
   ]
  },
  {
   "cell_type": "code",
   "execution_count": 6,
   "metadata": {
    "id": "QVXHQfO8PEfF"
   },
   "outputs": [],
   "source": [
    "### Read the data from the drive\n",
    "\n",
    "train_path='/content/drive/MyDrive/Datasets/chest_xray/train'\n",
    "test_path='/content/drive/MyDrive/Datasets/chest_xray/test'"
   ]
  },
  {
   "cell_type": "code",
   "execution_count": 7,
   "metadata": {
    "colab": {
     "base_uri": "https://localhost:8080/"
    },
    "id": "DJ1RwObfPQzW",
    "outputId": "399b8cab-3d9d-4c88-e871-2d1cce8ef254"
   },
   "outputs": [
    {
     "name": "stdout",
     "output_type": "stream",
     "text": [
      "Downloading data from https://storage.googleapis.com/tensorflow/keras-applications/resnet/resnet50_weights_tf_dim_ordering_tf_kernels_notop.h5\n",
      "94773248/94765736 [==============================] - 6s 0us/step\n"
     ]
    }
   ],
   "source": [
    "resnet50=ResNet50(input_shape=IMAGE_SIZE+[3],weights='imagenet',include_top=False)"
   ]
  },
  {
   "cell_type": "code",
   "execution_count": 9,
   "metadata": {
    "id": "JqwWG6KUPXjQ"
   },
   "outputs": [],
   "source": [
    "for layer in resnet50.layers:\n",
    "  layer.trainable=False"
   ]
  },
  {
   "cell_type": "code",
   "execution_count": 12,
   "metadata": {
    "id": "BjzcyQ6qPbBs"
   },
   "outputs": [],
   "source": [
    "folders=glob('/content/drive/MyDrive/Datasets/chest_xray/train/*')"
   ]
  },
  {
   "cell_type": "code",
   "execution_count": 13,
   "metadata": {
    "colab": {
     "base_uri": "https://localhost:8080/"
    },
    "id": "A2GdEGsRPisC",
    "outputId": "6feae48c-1398-4194-9350-2e5cb0443571"
   },
   "outputs": [
    {
     "data": {
      "text/plain": [
       "['/content/drive/MyDrive/Datasets/chest_xray/train/PNEUMONIA',\n",
       " '/content/drive/MyDrive/Datasets/chest_xray/train/NORMAL']"
      ]
     },
     "execution_count": 13,
     "metadata": {
      "tags": []
     },
     "output_type": "execute_result"
    }
   ],
   "source": [
    "folders"
   ]
  },
  {
   "cell_type": "code",
   "execution_count": 14,
   "metadata": {
    "id": "9b4YnDgLPk0m"
   },
   "outputs": [],
   "source": [
    "x=Flatten()(resnet50.output)"
   ]
  },
  {
   "cell_type": "code",
   "execution_count": 15,
   "metadata": {
    "id": "0y16b6vNPvHl"
   },
   "outputs": [],
   "source": [
    "prediction=Dense(len(folders),activation='softmax')(x)"
   ]
  },
  {
   "cell_type": "code",
   "execution_count": 16,
   "metadata": {
    "id": "9zfTzDyyPxab"
   },
   "outputs": [],
   "source": [
    "model=Model(inputs=resnet50.input,outputs=prediction)"
   ]
  },
  {
   "cell_type": "code",
   "execution_count": 17,
   "metadata": {
    "colab": {
     "base_uri": "https://localhost:8080/"
    },
    "id": "yuwu3FxIP0yN",
    "outputId": "47917de5-21b3-4af0-8815-0110a5e6675d"
   },
   "outputs": [
    {
     "name": "stdout",
     "output_type": "stream",
     "text": [
      "Model: \"model\"\n",
      "__________________________________________________________________________________________________\n",
      "Layer (type)                    Output Shape         Param #     Connected to                     \n",
      "==================================================================================================\n",
      "input_1 (InputLayer)            [(None, 224, 224, 3) 0                                            \n",
      "__________________________________________________________________________________________________\n",
      "conv1_pad (ZeroPadding2D)       (None, 230, 230, 3)  0           input_1[0][0]                    \n",
      "__________________________________________________________________________________________________\n",
      "conv1_conv (Conv2D)             (None, 112, 112, 64) 9472        conv1_pad[0][0]                  \n",
      "__________________________________________________________________________________________________\n",
      "conv1_bn (BatchNormalization)   (None, 112, 112, 64) 256         conv1_conv[0][0]                 \n",
      "__________________________________________________________________________________________________\n",
      "conv1_relu (Activation)         (None, 112, 112, 64) 0           conv1_bn[0][0]                   \n",
      "__________________________________________________________________________________________________\n",
      "pool1_pad (ZeroPadding2D)       (None, 114, 114, 64) 0           conv1_relu[0][0]                 \n",
      "__________________________________________________________________________________________________\n",
      "pool1_pool (MaxPooling2D)       (None, 56, 56, 64)   0           pool1_pad[0][0]                  \n",
      "__________________________________________________________________________________________________\n",
      "conv2_block1_1_conv (Conv2D)    (None, 56, 56, 64)   4160        pool1_pool[0][0]                 \n",
      "__________________________________________________________________________________________________\n",
      "conv2_block1_1_bn (BatchNormali (None, 56, 56, 64)   256         conv2_block1_1_conv[0][0]        \n",
      "__________________________________________________________________________________________________\n",
      "conv2_block1_1_relu (Activation (None, 56, 56, 64)   0           conv2_block1_1_bn[0][0]          \n",
      "__________________________________________________________________________________________________\n",
      "conv2_block1_2_conv (Conv2D)    (None, 56, 56, 64)   36928       conv2_block1_1_relu[0][0]        \n",
      "__________________________________________________________________________________________________\n",
      "conv2_block1_2_bn (BatchNormali (None, 56, 56, 64)   256         conv2_block1_2_conv[0][0]        \n",
      "__________________________________________________________________________________________________\n",
      "conv2_block1_2_relu (Activation (None, 56, 56, 64)   0           conv2_block1_2_bn[0][0]          \n",
      "__________________________________________________________________________________________________\n",
      "conv2_block1_0_conv (Conv2D)    (None, 56, 56, 256)  16640       pool1_pool[0][0]                 \n",
      "__________________________________________________________________________________________________\n",
      "conv2_block1_3_conv (Conv2D)    (None, 56, 56, 256)  16640       conv2_block1_2_relu[0][0]        \n",
      "__________________________________________________________________________________________________\n",
      "conv2_block1_0_bn (BatchNormali (None, 56, 56, 256)  1024        conv2_block1_0_conv[0][0]        \n",
      "__________________________________________________________________________________________________\n",
      "conv2_block1_3_bn (BatchNormali (None, 56, 56, 256)  1024        conv2_block1_3_conv[0][0]        \n",
      "__________________________________________________________________________________________________\n",
      "conv2_block1_add (Add)          (None, 56, 56, 256)  0           conv2_block1_0_bn[0][0]          \n",
      "                                                                 conv2_block1_3_bn[0][0]          \n",
      "__________________________________________________________________________________________________\n",
      "conv2_block1_out (Activation)   (None, 56, 56, 256)  0           conv2_block1_add[0][0]           \n",
      "__________________________________________________________________________________________________\n",
      "conv2_block2_1_conv (Conv2D)    (None, 56, 56, 64)   16448       conv2_block1_out[0][0]           \n",
      "__________________________________________________________________________________________________\n",
      "conv2_block2_1_bn (BatchNormali (None, 56, 56, 64)   256         conv2_block2_1_conv[0][0]        \n",
      "__________________________________________________________________________________________________\n",
      "conv2_block2_1_relu (Activation (None, 56, 56, 64)   0           conv2_block2_1_bn[0][0]          \n",
      "__________________________________________________________________________________________________\n",
      "conv2_block2_2_conv (Conv2D)    (None, 56, 56, 64)   36928       conv2_block2_1_relu[0][0]        \n",
      "__________________________________________________________________________________________________\n",
      "conv2_block2_2_bn (BatchNormali (None, 56, 56, 64)   256         conv2_block2_2_conv[0][0]        \n",
      "__________________________________________________________________________________________________\n",
      "conv2_block2_2_relu (Activation (None, 56, 56, 64)   0           conv2_block2_2_bn[0][0]          \n",
      "__________________________________________________________________________________________________\n",
      "conv2_block2_3_conv (Conv2D)    (None, 56, 56, 256)  16640       conv2_block2_2_relu[0][0]        \n",
      "__________________________________________________________________________________________________\n",
      "conv2_block2_3_bn (BatchNormali (None, 56, 56, 256)  1024        conv2_block2_3_conv[0][0]        \n",
      "__________________________________________________________________________________________________\n",
      "conv2_block2_add (Add)          (None, 56, 56, 256)  0           conv2_block1_out[0][0]           \n",
      "                                                                 conv2_block2_3_bn[0][0]          \n",
      "__________________________________________________________________________________________________\n",
      "conv2_block2_out (Activation)   (None, 56, 56, 256)  0           conv2_block2_add[0][0]           \n",
      "__________________________________________________________________________________________________\n",
      "conv2_block3_1_conv (Conv2D)    (None, 56, 56, 64)   16448       conv2_block2_out[0][0]           \n",
      "__________________________________________________________________________________________________\n",
      "conv2_block3_1_bn (BatchNormali (None, 56, 56, 64)   256         conv2_block3_1_conv[0][0]        \n",
      "__________________________________________________________________________________________________\n",
      "conv2_block3_1_relu (Activation (None, 56, 56, 64)   0           conv2_block3_1_bn[0][0]          \n",
      "__________________________________________________________________________________________________\n",
      "conv2_block3_2_conv (Conv2D)    (None, 56, 56, 64)   36928       conv2_block3_1_relu[0][0]        \n",
      "__________________________________________________________________________________________________\n",
      "conv2_block3_2_bn (BatchNormali (None, 56, 56, 64)   256         conv2_block3_2_conv[0][0]        \n",
      "__________________________________________________________________________________________________\n",
      "conv2_block3_2_relu (Activation (None, 56, 56, 64)   0           conv2_block3_2_bn[0][0]          \n",
      "__________________________________________________________________________________________________\n",
      "conv2_block3_3_conv (Conv2D)    (None, 56, 56, 256)  16640       conv2_block3_2_relu[0][0]        \n",
      "__________________________________________________________________________________________________\n",
      "conv2_block3_3_bn (BatchNormali (None, 56, 56, 256)  1024        conv2_block3_3_conv[0][0]        \n",
      "__________________________________________________________________________________________________\n",
      "conv2_block3_add (Add)          (None, 56, 56, 256)  0           conv2_block2_out[0][0]           \n",
      "                                                                 conv2_block3_3_bn[0][0]          \n",
      "__________________________________________________________________________________________________\n",
      "conv2_block3_out (Activation)   (None, 56, 56, 256)  0           conv2_block3_add[0][0]           \n",
      "__________________________________________________________________________________________________\n",
      "conv3_block1_1_conv (Conv2D)    (None, 28, 28, 128)  32896       conv2_block3_out[0][0]           \n",
      "__________________________________________________________________________________________________\n",
      "conv3_block1_1_bn (BatchNormali (None, 28, 28, 128)  512         conv3_block1_1_conv[0][0]        \n",
      "__________________________________________________________________________________________________\n",
      "conv3_block1_1_relu (Activation (None, 28, 28, 128)  0           conv3_block1_1_bn[0][0]          \n",
      "__________________________________________________________________________________________________\n",
      "conv3_block1_2_conv (Conv2D)    (None, 28, 28, 128)  147584      conv3_block1_1_relu[0][0]        \n",
      "__________________________________________________________________________________________________\n",
      "conv3_block1_2_bn (BatchNormali (None, 28, 28, 128)  512         conv3_block1_2_conv[0][0]        \n",
      "__________________________________________________________________________________________________\n",
      "conv3_block1_2_relu (Activation (None, 28, 28, 128)  0           conv3_block1_2_bn[0][0]          \n",
      "__________________________________________________________________________________________________\n",
      "conv3_block1_0_conv (Conv2D)    (None, 28, 28, 512)  131584      conv2_block3_out[0][0]           \n",
      "__________________________________________________________________________________________________\n",
      "conv3_block1_3_conv (Conv2D)    (None, 28, 28, 512)  66048       conv3_block1_2_relu[0][0]        \n",
      "__________________________________________________________________________________________________\n",
      "conv3_block1_0_bn (BatchNormali (None, 28, 28, 512)  2048        conv3_block1_0_conv[0][0]        \n",
      "__________________________________________________________________________________________________\n",
      "conv3_block1_3_bn (BatchNormali (None, 28, 28, 512)  2048        conv3_block1_3_conv[0][0]        \n",
      "__________________________________________________________________________________________________\n",
      "conv3_block1_add (Add)          (None, 28, 28, 512)  0           conv3_block1_0_bn[0][0]          \n",
      "                                                                 conv3_block1_3_bn[0][0]          \n",
      "__________________________________________________________________________________________________\n",
      "conv3_block1_out (Activation)   (None, 28, 28, 512)  0           conv3_block1_add[0][0]           \n",
      "__________________________________________________________________________________________________\n",
      "conv3_block2_1_conv (Conv2D)    (None, 28, 28, 128)  65664       conv3_block1_out[0][0]           \n",
      "__________________________________________________________________________________________________\n",
      "conv3_block2_1_bn (BatchNormali (None, 28, 28, 128)  512         conv3_block2_1_conv[0][0]        \n",
      "__________________________________________________________________________________________________\n",
      "conv3_block2_1_relu (Activation (None, 28, 28, 128)  0           conv3_block2_1_bn[0][0]          \n",
      "__________________________________________________________________________________________________\n",
      "conv3_block2_2_conv (Conv2D)    (None, 28, 28, 128)  147584      conv3_block2_1_relu[0][0]        \n",
      "__________________________________________________________________________________________________\n",
      "conv3_block2_2_bn (BatchNormali (None, 28, 28, 128)  512         conv3_block2_2_conv[0][0]        \n",
      "__________________________________________________________________________________________________\n",
      "conv3_block2_2_relu (Activation (None, 28, 28, 128)  0           conv3_block2_2_bn[0][0]          \n",
      "__________________________________________________________________________________________________\n",
      "conv3_block2_3_conv (Conv2D)    (None, 28, 28, 512)  66048       conv3_block2_2_relu[0][0]        \n",
      "__________________________________________________________________________________________________\n",
      "conv3_block2_3_bn (BatchNormali (None, 28, 28, 512)  2048        conv3_block2_3_conv[0][0]        \n",
      "__________________________________________________________________________________________________\n",
      "conv3_block2_add (Add)          (None, 28, 28, 512)  0           conv3_block1_out[0][0]           \n",
      "                                                                 conv3_block2_3_bn[0][0]          \n",
      "__________________________________________________________________________________________________\n",
      "conv3_block2_out (Activation)   (None, 28, 28, 512)  0           conv3_block2_add[0][0]           \n",
      "__________________________________________________________________________________________________\n",
      "conv3_block3_1_conv (Conv2D)    (None, 28, 28, 128)  65664       conv3_block2_out[0][0]           \n",
      "__________________________________________________________________________________________________\n",
      "conv3_block3_1_bn (BatchNormali (None, 28, 28, 128)  512         conv3_block3_1_conv[0][0]        \n",
      "__________________________________________________________________________________________________\n",
      "conv3_block3_1_relu (Activation (None, 28, 28, 128)  0           conv3_block3_1_bn[0][0]          \n",
      "__________________________________________________________________________________________________\n",
      "conv3_block3_2_conv (Conv2D)    (None, 28, 28, 128)  147584      conv3_block3_1_relu[0][0]        \n",
      "__________________________________________________________________________________________________\n",
      "conv3_block3_2_bn (BatchNormali (None, 28, 28, 128)  512         conv3_block3_2_conv[0][0]        \n",
      "__________________________________________________________________________________________________\n",
      "conv3_block3_2_relu (Activation (None, 28, 28, 128)  0           conv3_block3_2_bn[0][0]          \n",
      "__________________________________________________________________________________________________\n",
      "conv3_block3_3_conv (Conv2D)    (None, 28, 28, 512)  66048       conv3_block3_2_relu[0][0]        \n",
      "__________________________________________________________________________________________________\n",
      "conv3_block3_3_bn (BatchNormali (None, 28, 28, 512)  2048        conv3_block3_3_conv[0][0]        \n",
      "__________________________________________________________________________________________________\n",
      "conv3_block3_add (Add)          (None, 28, 28, 512)  0           conv3_block2_out[0][0]           \n",
      "                                                                 conv3_block3_3_bn[0][0]          \n",
      "__________________________________________________________________________________________________\n",
      "conv3_block3_out (Activation)   (None, 28, 28, 512)  0           conv3_block3_add[0][0]           \n",
      "__________________________________________________________________________________________________\n",
      "conv3_block4_1_conv (Conv2D)    (None, 28, 28, 128)  65664       conv3_block3_out[0][0]           \n",
      "__________________________________________________________________________________________________\n",
      "conv3_block4_1_bn (BatchNormali (None, 28, 28, 128)  512         conv3_block4_1_conv[0][0]        \n",
      "__________________________________________________________________________________________________\n",
      "conv3_block4_1_relu (Activation (None, 28, 28, 128)  0           conv3_block4_1_bn[0][0]          \n",
      "__________________________________________________________________________________________________\n",
      "conv3_block4_2_conv (Conv2D)    (None, 28, 28, 128)  147584      conv3_block4_1_relu[0][0]        \n",
      "__________________________________________________________________________________________________\n",
      "conv3_block4_2_bn (BatchNormali (None, 28, 28, 128)  512         conv3_block4_2_conv[0][0]        \n",
      "__________________________________________________________________________________________________\n",
      "conv3_block4_2_relu (Activation (None, 28, 28, 128)  0           conv3_block4_2_bn[0][0]          \n",
      "__________________________________________________________________________________________________\n",
      "conv3_block4_3_conv (Conv2D)    (None, 28, 28, 512)  66048       conv3_block4_2_relu[0][0]        \n",
      "__________________________________________________________________________________________________\n",
      "conv3_block4_3_bn (BatchNormali (None, 28, 28, 512)  2048        conv3_block4_3_conv[0][0]        \n",
      "__________________________________________________________________________________________________\n",
      "conv3_block4_add (Add)          (None, 28, 28, 512)  0           conv3_block3_out[0][0]           \n",
      "                                                                 conv3_block4_3_bn[0][0]          \n",
      "__________________________________________________________________________________________________\n",
      "conv3_block4_out (Activation)   (None, 28, 28, 512)  0           conv3_block4_add[0][0]           \n",
      "__________________________________________________________________________________________________\n",
      "conv4_block1_1_conv (Conv2D)    (None, 14, 14, 256)  131328      conv3_block4_out[0][0]           \n",
      "__________________________________________________________________________________________________\n",
      "conv4_block1_1_bn (BatchNormali (None, 14, 14, 256)  1024        conv4_block1_1_conv[0][0]        \n",
      "__________________________________________________________________________________________________\n",
      "conv4_block1_1_relu (Activation (None, 14, 14, 256)  0           conv4_block1_1_bn[0][0]          \n",
      "__________________________________________________________________________________________________\n",
      "conv4_block1_2_conv (Conv2D)    (None, 14, 14, 256)  590080      conv4_block1_1_relu[0][0]        \n",
      "__________________________________________________________________________________________________\n",
      "conv4_block1_2_bn (BatchNormali (None, 14, 14, 256)  1024        conv4_block1_2_conv[0][0]        \n",
      "__________________________________________________________________________________________________\n",
      "conv4_block1_2_relu (Activation (None, 14, 14, 256)  0           conv4_block1_2_bn[0][0]          \n",
      "__________________________________________________________________________________________________\n",
      "conv4_block1_0_conv (Conv2D)    (None, 14, 14, 1024) 525312      conv3_block4_out[0][0]           \n",
      "__________________________________________________________________________________________________\n",
      "conv4_block1_3_conv (Conv2D)    (None, 14, 14, 1024) 263168      conv4_block1_2_relu[0][0]        \n",
      "__________________________________________________________________________________________________\n",
      "conv4_block1_0_bn (BatchNormali (None, 14, 14, 1024) 4096        conv4_block1_0_conv[0][0]        \n",
      "__________________________________________________________________________________________________\n",
      "conv4_block1_3_bn (BatchNormali (None, 14, 14, 1024) 4096        conv4_block1_3_conv[0][0]        \n",
      "__________________________________________________________________________________________________\n",
      "conv4_block1_add (Add)          (None, 14, 14, 1024) 0           conv4_block1_0_bn[0][0]          \n",
      "                                                                 conv4_block1_3_bn[0][0]          \n",
      "__________________________________________________________________________________________________\n",
      "conv4_block1_out (Activation)   (None, 14, 14, 1024) 0           conv4_block1_add[0][0]           \n",
      "__________________________________________________________________________________________________\n",
      "conv4_block2_1_conv (Conv2D)    (None, 14, 14, 256)  262400      conv4_block1_out[0][0]           \n",
      "__________________________________________________________________________________________________\n",
      "conv4_block2_1_bn (BatchNormali (None, 14, 14, 256)  1024        conv4_block2_1_conv[0][0]        \n",
      "__________________________________________________________________________________________________\n",
      "conv4_block2_1_relu (Activation (None, 14, 14, 256)  0           conv4_block2_1_bn[0][0]          \n",
      "__________________________________________________________________________________________________\n",
      "conv4_block2_2_conv (Conv2D)    (None, 14, 14, 256)  590080      conv4_block2_1_relu[0][0]        \n",
      "__________________________________________________________________________________________________\n",
      "conv4_block2_2_bn (BatchNormali (None, 14, 14, 256)  1024        conv4_block2_2_conv[0][0]        \n",
      "__________________________________________________________________________________________________\n",
      "conv4_block2_2_relu (Activation (None, 14, 14, 256)  0           conv4_block2_2_bn[0][0]          \n",
      "__________________________________________________________________________________________________\n",
      "conv4_block2_3_conv (Conv2D)    (None, 14, 14, 1024) 263168      conv4_block2_2_relu[0][0]        \n",
      "__________________________________________________________________________________________________\n",
      "conv4_block2_3_bn (BatchNormali (None, 14, 14, 1024) 4096        conv4_block2_3_conv[0][0]        \n",
      "__________________________________________________________________________________________________\n",
      "conv4_block2_add (Add)          (None, 14, 14, 1024) 0           conv4_block1_out[0][0]           \n",
      "                                                                 conv4_block2_3_bn[0][0]          \n",
      "__________________________________________________________________________________________________\n",
      "conv4_block2_out (Activation)   (None, 14, 14, 1024) 0           conv4_block2_add[0][0]           \n",
      "__________________________________________________________________________________________________\n",
      "conv4_block3_1_conv (Conv2D)    (None, 14, 14, 256)  262400      conv4_block2_out[0][0]           \n",
      "__________________________________________________________________________________________________\n",
      "conv4_block3_1_bn (BatchNormali (None, 14, 14, 256)  1024        conv4_block3_1_conv[0][0]        \n",
      "__________________________________________________________________________________________________\n",
      "conv4_block3_1_relu (Activation (None, 14, 14, 256)  0           conv4_block3_1_bn[0][0]          \n",
      "__________________________________________________________________________________________________\n",
      "conv4_block3_2_conv (Conv2D)    (None, 14, 14, 256)  590080      conv4_block3_1_relu[0][0]        \n",
      "__________________________________________________________________________________________________\n",
      "conv4_block3_2_bn (BatchNormali (None, 14, 14, 256)  1024        conv4_block3_2_conv[0][0]        \n",
      "__________________________________________________________________________________________________\n",
      "conv4_block3_2_relu (Activation (None, 14, 14, 256)  0           conv4_block3_2_bn[0][0]          \n",
      "__________________________________________________________________________________________________\n",
      "conv4_block3_3_conv (Conv2D)    (None, 14, 14, 1024) 263168      conv4_block3_2_relu[0][0]        \n",
      "__________________________________________________________________________________________________\n",
      "conv4_block3_3_bn (BatchNormali (None, 14, 14, 1024) 4096        conv4_block3_3_conv[0][0]        \n",
      "__________________________________________________________________________________________________\n",
      "conv4_block3_add (Add)          (None, 14, 14, 1024) 0           conv4_block2_out[0][0]           \n",
      "                                                                 conv4_block3_3_bn[0][0]          \n",
      "__________________________________________________________________________________________________\n",
      "conv4_block3_out (Activation)   (None, 14, 14, 1024) 0           conv4_block3_add[0][0]           \n",
      "__________________________________________________________________________________________________\n",
      "conv4_block4_1_conv (Conv2D)    (None, 14, 14, 256)  262400      conv4_block3_out[0][0]           \n",
      "__________________________________________________________________________________________________\n",
      "conv4_block4_1_bn (BatchNormali (None, 14, 14, 256)  1024        conv4_block4_1_conv[0][0]        \n",
      "__________________________________________________________________________________________________\n",
      "conv4_block4_1_relu (Activation (None, 14, 14, 256)  0           conv4_block4_1_bn[0][0]          \n",
      "__________________________________________________________________________________________________\n",
      "conv4_block4_2_conv (Conv2D)    (None, 14, 14, 256)  590080      conv4_block4_1_relu[0][0]        \n",
      "__________________________________________________________________________________________________\n",
      "conv4_block4_2_bn (BatchNormali (None, 14, 14, 256)  1024        conv4_block4_2_conv[0][0]        \n",
      "__________________________________________________________________________________________________\n",
      "conv4_block4_2_relu (Activation (None, 14, 14, 256)  0           conv4_block4_2_bn[0][0]          \n",
      "__________________________________________________________________________________________________\n",
      "conv4_block4_3_conv (Conv2D)    (None, 14, 14, 1024) 263168      conv4_block4_2_relu[0][0]        \n",
      "__________________________________________________________________________________________________\n",
      "conv4_block4_3_bn (BatchNormali (None, 14, 14, 1024) 4096        conv4_block4_3_conv[0][0]        \n",
      "__________________________________________________________________________________________________\n",
      "conv4_block4_add (Add)          (None, 14, 14, 1024) 0           conv4_block3_out[0][0]           \n",
      "                                                                 conv4_block4_3_bn[0][0]          \n",
      "__________________________________________________________________________________________________\n",
      "conv4_block4_out (Activation)   (None, 14, 14, 1024) 0           conv4_block4_add[0][0]           \n",
      "__________________________________________________________________________________________________\n",
      "conv4_block5_1_conv (Conv2D)    (None, 14, 14, 256)  262400      conv4_block4_out[0][0]           \n",
      "__________________________________________________________________________________________________\n",
      "conv4_block5_1_bn (BatchNormali (None, 14, 14, 256)  1024        conv4_block5_1_conv[0][0]        \n",
      "__________________________________________________________________________________________________\n",
      "conv4_block5_1_relu (Activation (None, 14, 14, 256)  0           conv4_block5_1_bn[0][0]          \n",
      "__________________________________________________________________________________________________\n",
      "conv4_block5_2_conv (Conv2D)    (None, 14, 14, 256)  590080      conv4_block5_1_relu[0][0]        \n",
      "__________________________________________________________________________________________________\n",
      "conv4_block5_2_bn (BatchNormali (None, 14, 14, 256)  1024        conv4_block5_2_conv[0][0]        \n",
      "__________________________________________________________________________________________________\n",
      "conv4_block5_2_relu (Activation (None, 14, 14, 256)  0           conv4_block5_2_bn[0][0]          \n",
      "__________________________________________________________________________________________________\n",
      "conv4_block5_3_conv (Conv2D)    (None, 14, 14, 1024) 263168      conv4_block5_2_relu[0][0]        \n",
      "__________________________________________________________________________________________________\n",
      "conv4_block5_3_bn (BatchNormali (None, 14, 14, 1024) 4096        conv4_block5_3_conv[0][0]        \n",
      "__________________________________________________________________________________________________\n",
      "conv4_block5_add (Add)          (None, 14, 14, 1024) 0           conv4_block4_out[0][0]           \n",
      "                                                                 conv4_block5_3_bn[0][0]          \n",
      "__________________________________________________________________________________________________\n",
      "conv4_block5_out (Activation)   (None, 14, 14, 1024) 0           conv4_block5_add[0][0]           \n",
      "__________________________________________________________________________________________________\n",
      "conv4_block6_1_conv (Conv2D)    (None, 14, 14, 256)  262400      conv4_block5_out[0][0]           \n",
      "__________________________________________________________________________________________________\n",
      "conv4_block6_1_bn (BatchNormali (None, 14, 14, 256)  1024        conv4_block6_1_conv[0][0]        \n",
      "__________________________________________________________________________________________________\n",
      "conv4_block6_1_relu (Activation (None, 14, 14, 256)  0           conv4_block6_1_bn[0][0]          \n",
      "__________________________________________________________________________________________________\n",
      "conv4_block6_2_conv (Conv2D)    (None, 14, 14, 256)  590080      conv4_block6_1_relu[0][0]        \n",
      "__________________________________________________________________________________________________\n",
      "conv4_block6_2_bn (BatchNormali (None, 14, 14, 256)  1024        conv4_block6_2_conv[0][0]        \n",
      "__________________________________________________________________________________________________\n",
      "conv4_block6_2_relu (Activation (None, 14, 14, 256)  0           conv4_block6_2_bn[0][0]          \n",
      "__________________________________________________________________________________________________\n",
      "conv4_block6_3_conv (Conv2D)    (None, 14, 14, 1024) 263168      conv4_block6_2_relu[0][0]        \n",
      "__________________________________________________________________________________________________\n",
      "conv4_block6_3_bn (BatchNormali (None, 14, 14, 1024) 4096        conv4_block6_3_conv[0][0]        \n",
      "__________________________________________________________________________________________________\n",
      "conv4_block6_add (Add)          (None, 14, 14, 1024) 0           conv4_block5_out[0][0]           \n",
      "                                                                 conv4_block6_3_bn[0][0]          \n",
      "__________________________________________________________________________________________________\n",
      "conv4_block6_out (Activation)   (None, 14, 14, 1024) 0           conv4_block6_add[0][0]           \n",
      "__________________________________________________________________________________________________\n",
      "conv5_block1_1_conv (Conv2D)    (None, 7, 7, 512)    524800      conv4_block6_out[0][0]           \n",
      "__________________________________________________________________________________________________\n",
      "conv5_block1_1_bn (BatchNormali (None, 7, 7, 512)    2048        conv5_block1_1_conv[0][0]        \n",
      "__________________________________________________________________________________________________\n",
      "conv5_block1_1_relu (Activation (None, 7, 7, 512)    0           conv5_block1_1_bn[0][0]          \n",
      "__________________________________________________________________________________________________\n",
      "conv5_block1_2_conv (Conv2D)    (None, 7, 7, 512)    2359808     conv5_block1_1_relu[0][0]        \n",
      "__________________________________________________________________________________________________\n",
      "conv5_block1_2_bn (BatchNormali (None, 7, 7, 512)    2048        conv5_block1_2_conv[0][0]        \n",
      "__________________________________________________________________________________________________\n",
      "conv5_block1_2_relu (Activation (None, 7, 7, 512)    0           conv5_block1_2_bn[0][0]          \n",
      "__________________________________________________________________________________________________\n",
      "conv5_block1_0_conv (Conv2D)    (None, 7, 7, 2048)   2099200     conv4_block6_out[0][0]           \n",
      "__________________________________________________________________________________________________\n",
      "conv5_block1_3_conv (Conv2D)    (None, 7, 7, 2048)   1050624     conv5_block1_2_relu[0][0]        \n",
      "__________________________________________________________________________________________________\n",
      "conv5_block1_0_bn (BatchNormali (None, 7, 7, 2048)   8192        conv5_block1_0_conv[0][0]        \n",
      "__________________________________________________________________________________________________\n",
      "conv5_block1_3_bn (BatchNormali (None, 7, 7, 2048)   8192        conv5_block1_3_conv[0][0]        \n",
      "__________________________________________________________________________________________________\n",
      "conv5_block1_add (Add)          (None, 7, 7, 2048)   0           conv5_block1_0_bn[0][0]          \n",
      "                                                                 conv5_block1_3_bn[0][0]          \n",
      "__________________________________________________________________________________________________\n",
      "conv5_block1_out (Activation)   (None, 7, 7, 2048)   0           conv5_block1_add[0][0]           \n",
      "__________________________________________________________________________________________________\n",
      "conv5_block2_1_conv (Conv2D)    (None, 7, 7, 512)    1049088     conv5_block1_out[0][0]           \n",
      "__________________________________________________________________________________________________\n",
      "conv5_block2_1_bn (BatchNormali (None, 7, 7, 512)    2048        conv5_block2_1_conv[0][0]        \n",
      "__________________________________________________________________________________________________\n",
      "conv5_block2_1_relu (Activation (None, 7, 7, 512)    0           conv5_block2_1_bn[0][0]          \n",
      "__________________________________________________________________________________________________\n",
      "conv5_block2_2_conv (Conv2D)    (None, 7, 7, 512)    2359808     conv5_block2_1_relu[0][0]        \n",
      "__________________________________________________________________________________________________\n",
      "conv5_block2_2_bn (BatchNormali (None, 7, 7, 512)    2048        conv5_block2_2_conv[0][0]        \n",
      "__________________________________________________________________________________________________\n",
      "conv5_block2_2_relu (Activation (None, 7, 7, 512)    0           conv5_block2_2_bn[0][0]          \n",
      "__________________________________________________________________________________________________\n",
      "conv5_block2_3_conv (Conv2D)    (None, 7, 7, 2048)   1050624     conv5_block2_2_relu[0][0]        \n",
      "__________________________________________________________________________________________________\n",
      "conv5_block2_3_bn (BatchNormali (None, 7, 7, 2048)   8192        conv5_block2_3_conv[0][0]        \n",
      "__________________________________________________________________________________________________\n",
      "conv5_block2_add (Add)          (None, 7, 7, 2048)   0           conv5_block1_out[0][0]           \n",
      "                                                                 conv5_block2_3_bn[0][0]          \n",
      "__________________________________________________________________________________________________\n",
      "conv5_block2_out (Activation)   (None, 7, 7, 2048)   0           conv5_block2_add[0][0]           \n",
      "__________________________________________________________________________________________________\n",
      "conv5_block3_1_conv (Conv2D)    (None, 7, 7, 512)    1049088     conv5_block2_out[0][0]           \n",
      "__________________________________________________________________________________________________\n",
      "conv5_block3_1_bn (BatchNormali (None, 7, 7, 512)    2048        conv5_block3_1_conv[0][0]        \n",
      "__________________________________________________________________________________________________\n",
      "conv5_block3_1_relu (Activation (None, 7, 7, 512)    0           conv5_block3_1_bn[0][0]          \n",
      "__________________________________________________________________________________________________\n",
      "conv5_block3_2_conv (Conv2D)    (None, 7, 7, 512)    2359808     conv5_block3_1_relu[0][0]        \n",
      "__________________________________________________________________________________________________\n",
      "conv5_block3_2_bn (BatchNormali (None, 7, 7, 512)    2048        conv5_block3_2_conv[0][0]        \n",
      "__________________________________________________________________________________________________\n",
      "conv5_block3_2_relu (Activation (None, 7, 7, 512)    0           conv5_block3_2_bn[0][0]          \n",
      "__________________________________________________________________________________________________\n",
      "conv5_block3_3_conv (Conv2D)    (None, 7, 7, 2048)   1050624     conv5_block3_2_relu[0][0]        \n",
      "__________________________________________________________________________________________________\n",
      "conv5_block3_3_bn (BatchNormali (None, 7, 7, 2048)   8192        conv5_block3_3_conv[0][0]        \n",
      "__________________________________________________________________________________________________\n",
      "conv5_block3_add (Add)          (None, 7, 7, 2048)   0           conv5_block2_out[0][0]           \n",
      "                                                                 conv5_block3_3_bn[0][0]          \n",
      "__________________________________________________________________________________________________\n",
      "conv5_block3_out (Activation)   (None, 7, 7, 2048)   0           conv5_block3_add[0][0]           \n",
      "__________________________________________________________________________________________________\n",
      "flatten (Flatten)               (None, 100352)       0           conv5_block3_out[0][0]           \n",
      "__________________________________________________________________________________________________\n",
      "dense (Dense)                   (None, 2)            200706      flatten[0][0]                    \n",
      "==================================================================================================\n",
      "Total params: 23,788,418\n",
      "Trainable params: 200,706\n",
      "Non-trainable params: 23,587,712\n",
      "__________________________________________________________________________________________________\n"
     ]
    }
   ],
   "source": [
    "model.summary()"
   ]
  },
  {
   "cell_type": "code",
   "execution_count": 18,
   "metadata": {
    "id": "k5lBJvO4P26o"
   },
   "outputs": [],
   "source": [
    "model.compile(optimizer='adam',loss='categorical_crossentropy',metrics=['accuracy'])"
   ]
  },
  {
   "cell_type": "code",
   "execution_count": 19,
   "metadata": {
    "id": "_CpbCEL8P7bP"
   },
   "outputs": [],
   "source": [
    "train_datagen=ImageDataGenerator(rescale=1./255,\n",
    "                                  shear_range=0.2,\n",
    "                                  zoom_range=0.2,\n",
    "                                  horizontal_flip=True\n",
    "                                  )\n",
    "test_datagen=ImageDataGenerator(rescale=1./255)"
   ]
  },
  {
   "cell_type": "code",
   "execution_count": 27,
   "metadata": {
    "colab": {
     "base_uri": "https://localhost:8080/"
    },
    "id": "ZDPubmqdP8_4",
    "outputId": "1bd5d642-8745-47ac-dc7a-bff5a610cd9d"
   },
   "outputs": [
    {
     "name": "stdout",
     "output_type": "stream",
     "text": [
      "Found 5232 images belonging to 2 classes.\n"
     ]
    }
   ],
   "source": [
    "training_set=train_datagen.flow_from_directory('/content/drive/MyDrive/Datasets/chest_xray/train',\n",
    "                                               target_size=(224,224),\n",
    "                                               batch_size=32,\n",
    "                                               class_mode='categorical')"
   ]
  },
  {
   "cell_type": "code",
   "execution_count": 28,
   "metadata": {
    "colab": {
     "base_uri": "https://localhost:8080/"
    },
    "id": "DM4KkHK5QEJH",
    "outputId": "5fc293b9-0ea3-4848-87d5-b39a1b03bd5f"
   },
   "outputs": [
    {
     "name": "stdout",
     "output_type": "stream",
     "text": [
      "Found 1000 images belonging to 2 classes.\n"
     ]
    }
   ],
   "source": [
    "test_set=test_datagen.flow_from_directory('/content/drive/MyDrive/Datasets/chest_xray/test',\n",
    "                                               target_size=(224,224),\n",
    "                                               batch_size=32,\n",
    "                                               class_mode='categorical')"
   ]
  },
  {
   "cell_type": "code",
   "execution_count": 29,
   "metadata": {
    "colab": {
     "base_uri": "https://localhost:8080/"
    },
    "id": "qWbtUmJPQKFD",
    "outputId": "d6bf0392-4aa5-4afc-f483-724092a1f804"
   },
   "outputs": [
    {
     "name": "stderr",
     "output_type": "stream",
     "text": [
      "/usr/local/lib/python3.7/dist-packages/tensorflow/python/keras/engine/training.py:1844: UserWarning: `Model.fit_generator` is deprecated and will be removed in a future version. Please use `Model.fit`, which supports generators.\n",
      "  warnings.warn('`Model.fit_generator` is deprecated and '\n"
     ]
    },
    {
     "name": "stdout",
     "output_type": "stream",
     "text": [
      "Epoch 1/100\n",
      "164/164 [==============================] - 1330s 8s/step - loss: 0.3073 - accuracy: 0.8788 - val_loss: 0.7420 - val_accuracy: 0.7310\n",
      "Epoch 2/100\n",
      "164/164 [==============================] - 139s 846ms/step - loss: 0.2489 - accuracy: 0.9033 - val_loss: 0.9011 - val_accuracy: 0.6990\n",
      "Epoch 3/100\n",
      "164/164 [==============================] - 138s 842ms/step - loss: 0.3229 - accuracy: 0.8804 - val_loss: 0.6585 - val_accuracy: 0.7670\n",
      "Epoch 4/100\n",
      "164/164 [==============================] - 138s 842ms/step - loss: 0.2988 - accuracy: 0.8823 - val_loss: 1.1192 - val_accuracy: 0.6860\n",
      "Epoch 5/100\n",
      "164/164 [==============================] - 138s 842ms/step - loss: 0.2366 - accuracy: 0.9058 - val_loss: 1.0619 - val_accuracy: 0.6940\n",
      "Epoch 6/100\n",
      "164/164 [==============================] - 138s 838ms/step - loss: 0.3910 - accuracy: 0.8614 - val_loss: 0.9288 - val_accuracy: 0.7220\n",
      "Epoch 7/100\n",
      "164/164 [==============================] - 138s 839ms/step - loss: 0.2525 - accuracy: 0.8998 - val_loss: 0.7012 - val_accuracy: 0.7490\n",
      "Epoch 8/100\n",
      "164/164 [==============================] - 137s 834ms/step - loss: 0.2660 - accuracy: 0.9000 - val_loss: 1.7363 - val_accuracy: 0.6110\n",
      "Epoch 9/100\n",
      "164/164 [==============================] - 137s 835ms/step - loss: 0.2889 - accuracy: 0.8939 - val_loss: 0.9373 - val_accuracy: 0.7270\n",
      "Epoch 10/100\n",
      "164/164 [==============================] - 137s 837ms/step - loss: 0.2902 - accuracy: 0.8981 - val_loss: 0.8571 - val_accuracy: 0.7460\n",
      "Epoch 11/100\n",
      "164/164 [==============================] - 137s 833ms/step - loss: 0.2129 - accuracy: 0.9186 - val_loss: 1.3407 - val_accuracy: 0.6810\n",
      "Epoch 12/100\n",
      "164/164 [==============================] - 137s 834ms/step - loss: 0.2962 - accuracy: 0.8930 - val_loss: 1.1683 - val_accuracy: 0.7140\n",
      "Epoch 13/100\n",
      "164/164 [==============================] - 137s 838ms/step - loss: 0.2769 - accuracy: 0.9035 - val_loss: 3.5184 - val_accuracy: 0.5290\n",
      "Epoch 14/100\n",
      "164/164 [==============================] - 137s 837ms/step - loss: 0.3042 - accuracy: 0.8953 - val_loss: 1.5674 - val_accuracy: 0.6720\n",
      "Epoch 15/100\n",
      "164/164 [==============================] - 138s 838ms/step - loss: 0.2779 - accuracy: 0.9046 - val_loss: 1.7439 - val_accuracy: 0.6630\n",
      "Epoch 16/100\n",
      "164/164 [==============================] - 138s 839ms/step - loss: 0.2914 - accuracy: 0.8991 - val_loss: 1.1467 - val_accuracy: 0.7220\n",
      "Epoch 17/100\n",
      "164/164 [==============================] - 137s 838ms/step - loss: 0.2364 - accuracy: 0.9127 - val_loss: 0.7675 - val_accuracy: 0.7440\n",
      "Epoch 18/100\n",
      "164/164 [==============================] - 137s 837ms/step - loss: 0.2367 - accuracy: 0.9161 - val_loss: 1.6885 - val_accuracy: 0.6430\n",
      "Epoch 19/100\n",
      "164/164 [==============================] - 138s 843ms/step - loss: 0.2459 - accuracy: 0.9069 - val_loss: 2.8058 - val_accuracy: 0.5610\n",
      "Epoch 20/100\n",
      "164/164 [==============================] - 137s 837ms/step - loss: 0.3016 - accuracy: 0.8983 - val_loss: 6.3550 - val_accuracy: 0.5000\n",
      "Epoch 21/100\n",
      "164/164 [==============================] - 138s 842ms/step - loss: 0.2399 - accuracy: 0.9169 - val_loss: 2.2573 - val_accuracy: 0.6070\n",
      "Epoch 22/100\n",
      "164/164 [==============================] - 136s 828ms/step - loss: 0.2559 - accuracy: 0.9125 - val_loss: 2.2936 - val_accuracy: 0.6050\n",
      "Epoch 23/100\n",
      "164/164 [==============================] - 137s 834ms/step - loss: 0.2946 - accuracy: 0.9071 - val_loss: 2.3090 - val_accuracy: 0.6180\n",
      "Epoch 24/100\n",
      "164/164 [==============================] - 137s 834ms/step - loss: 0.3041 - accuracy: 0.9021 - val_loss: 2.1590 - val_accuracy: 0.6270\n",
      "Epoch 25/100\n",
      "164/164 [==============================] - 136s 831ms/step - loss: 0.2572 - accuracy: 0.9151 - val_loss: 3.4154 - val_accuracy: 0.5510\n",
      "Epoch 26/100\n",
      "164/164 [==============================] - 132s 804ms/step - loss: 0.3212 - accuracy: 0.8989 - val_loss: 5.1088 - val_accuracy: 0.5100\n",
      "Epoch 27/100\n",
      "164/164 [==============================] - 132s 802ms/step - loss: 0.2375 - accuracy: 0.9214 - val_loss: 1.8747 - val_accuracy: 0.6700\n",
      "Epoch 28/100\n",
      "164/164 [==============================] - 131s 800ms/step - loss: 0.2869 - accuracy: 0.9092 - val_loss: 0.9326 - val_accuracy: 0.7420\n",
      "Epoch 29/100\n",
      "164/164 [==============================] - 132s 803ms/step - loss: 0.3569 - accuracy: 0.8979 - val_loss: 2.8548 - val_accuracy: 0.5930\n",
      "Epoch 30/100\n",
      "164/164 [==============================] - 132s 807ms/step - loss: 0.3379 - accuracy: 0.9004 - val_loss: 2.0781 - val_accuracy: 0.6620\n",
      "Epoch 31/100\n",
      "164/164 [==============================] - 132s 802ms/step - loss: 0.2324 - accuracy: 0.9256 - val_loss: 1.3847 - val_accuracy: 0.7090\n",
      "Epoch 32/100\n",
      "164/164 [==============================] - 132s 803ms/step - loss: 0.3299 - accuracy: 0.9058 - val_loss: 3.1949 - val_accuracy: 0.5870\n",
      "Epoch 33/100\n",
      "164/164 [==============================] - 133s 808ms/step - loss: 0.2990 - accuracy: 0.9132 - val_loss: 1.7153 - val_accuracy: 0.6900\n",
      "Epoch 34/100\n",
      "164/164 [==============================] - 132s 806ms/step - loss: 0.1878 - accuracy: 0.9343 - val_loss: 1.6267 - val_accuracy: 0.6940\n",
      "Epoch 35/100\n",
      "164/164 [==============================] - 132s 802ms/step - loss: 0.3095 - accuracy: 0.9056 - val_loss: 2.0117 - val_accuracy: 0.6720\n",
      "Epoch 36/100\n",
      "164/164 [==============================] - 131s 798ms/step - loss: 0.2284 - accuracy: 0.9256 - val_loss: 2.1814 - val_accuracy: 0.6460\n",
      "Epoch 37/100\n",
      "164/164 [==============================] - 131s 798ms/step - loss: 0.2474 - accuracy: 0.9170 - val_loss: 1.7037 - val_accuracy: 0.6930\n",
      "Epoch 38/100\n",
      "164/164 [==============================] - 131s 801ms/step - loss: 0.2693 - accuracy: 0.9201 - val_loss: 0.8808 - val_accuracy: 0.7470\n",
      "Epoch 39/100\n",
      "164/164 [==============================] - 132s 804ms/step - loss: 0.1998 - accuracy: 0.9329 - val_loss: 1.4293 - val_accuracy: 0.7020\n",
      "Epoch 40/100\n",
      "164/164 [==============================] - 131s 798ms/step - loss: 0.2835 - accuracy: 0.9138 - val_loss: 1.1090 - val_accuracy: 0.7490\n",
      "Epoch 41/100\n",
      "164/164 [==============================] - 131s 799ms/step - loss: 0.2599 - accuracy: 0.9161 - val_loss: 2.5200 - val_accuracy: 0.6160\n",
      "Epoch 42/100\n",
      "164/164 [==============================] - 131s 800ms/step - loss: 0.2064 - accuracy: 0.9337 - val_loss: 1.3106 - val_accuracy: 0.7190\n",
      "Epoch 43/100\n",
      "164/164 [==============================] - 131s 800ms/step - loss: 0.3185 - accuracy: 0.9071 - val_loss: 2.4387 - val_accuracy: 0.6390\n",
      "Epoch 44/100\n",
      "164/164 [==============================] - 131s 798ms/step - loss: 0.3502 - accuracy: 0.9023 - val_loss: 1.2286 - val_accuracy: 0.7500\n",
      "Epoch 45/100\n",
      "164/164 [==============================] - 130s 794ms/step - loss: 0.4221 - accuracy: 0.8939 - val_loss: 1.0985 - val_accuracy: 0.7460\n",
      "Epoch 46/100\n",
      "164/164 [==============================] - 131s 796ms/step - loss: 0.2359 - accuracy: 0.9251 - val_loss: 1.3842 - val_accuracy: 0.7280\n",
      "Epoch 47/100\n",
      "164/164 [==============================] - 130s 795ms/step - loss: 0.2144 - accuracy: 0.9329 - val_loss: 2.3172 - val_accuracy: 0.6540\n",
      "Epoch 48/100\n",
      "164/164 [==============================] - 130s 793ms/step - loss: 0.2009 - accuracy: 0.9360 - val_loss: 1.6032 - val_accuracy: 0.7010\n",
      "Epoch 49/100\n",
      "164/164 [==============================] - 131s 800ms/step - loss: 0.3023 - accuracy: 0.9065 - val_loss: 1.7912 - val_accuracy: 0.6940\n",
      "Epoch 50/100\n",
      "164/164 [==============================] - 131s 796ms/step - loss: 0.2840 - accuracy: 0.9178 - val_loss: 1.4865 - val_accuracy: 0.7140\n",
      "Epoch 51/100\n",
      "164/164 [==============================] - 131s 800ms/step - loss: 0.3384 - accuracy: 0.9123 - val_loss: 1.4051 - val_accuracy: 0.7210\n",
      "Epoch 52/100\n",
      "164/164 [==============================] - 131s 799ms/step - loss: 0.3032 - accuracy: 0.9197 - val_loss: 1.9775 - val_accuracy: 0.6890\n",
      "Epoch 53/100\n",
      "164/164 [==============================] - 131s 797ms/step - loss: 0.2137 - accuracy: 0.9358 - val_loss: 2.2737 - val_accuracy: 0.6550\n",
      "Epoch 54/100\n",
      "164/164 [==============================] - 131s 795ms/step - loss: 0.1908 - accuracy: 0.9398 - val_loss: 3.3562 - val_accuracy: 0.5870\n",
      "Epoch 55/100\n",
      "164/164 [==============================] - 131s 796ms/step - loss: 0.2226 - accuracy: 0.9274 - val_loss: 1.8194 - val_accuracy: 0.6820\n",
      "Epoch 56/100\n",
      "164/164 [==============================] - 130s 796ms/step - loss: 0.2092 - accuracy: 0.9329 - val_loss: 1.2246 - val_accuracy: 0.7330\n",
      "Epoch 57/100\n",
      "164/164 [==============================] - 130s 796ms/step - loss: 0.3154 - accuracy: 0.9081 - val_loss: 2.6032 - val_accuracy: 0.6460\n",
      "Epoch 58/100\n",
      "164/164 [==============================] - 131s 797ms/step - loss: 0.2643 - accuracy: 0.9220 - val_loss: 1.0363 - val_accuracy: 0.7400\n",
      "Epoch 59/100\n",
      "164/164 [==============================] - 131s 799ms/step - loss: 0.2676 - accuracy: 0.9203 - val_loss: 1.0848 - val_accuracy: 0.7440\n",
      "Epoch 60/100\n",
      "164/164 [==============================] - 131s 798ms/step - loss: 0.5317 - accuracy: 0.8805 - val_loss: 1.1395 - val_accuracy: 0.7390\n",
      "Epoch 61/100\n",
      "164/164 [==============================] - 131s 800ms/step - loss: 0.3071 - accuracy: 0.9203 - val_loss: 2.3442 - val_accuracy: 0.6700\n",
      "Epoch 62/100\n",
      "164/164 [==============================] - 131s 801ms/step - loss: 0.1882 - accuracy: 0.9394 - val_loss: 1.8775 - val_accuracy: 0.6950\n",
      "Epoch 63/100\n",
      "164/164 [==============================] - 131s 797ms/step - loss: 0.2060 - accuracy: 0.9337 - val_loss: 1.4885 - val_accuracy: 0.7170\n",
      "Epoch 64/100\n",
      "164/164 [==============================] - 130s 796ms/step - loss: 0.2052 - accuracy: 0.9329 - val_loss: 2.7858 - val_accuracy: 0.6280\n",
      "Epoch 65/100\n",
      "164/164 [==============================] - 131s 800ms/step - loss: 0.2555 - accuracy: 0.9213 - val_loss: 1.1727 - val_accuracy: 0.7440\n",
      "Epoch 66/100\n",
      "164/164 [==============================] - 131s 801ms/step - loss: 0.2250 - accuracy: 0.9258 - val_loss: 1.4328 - val_accuracy: 0.7210\n",
      "Epoch 67/100\n",
      "164/164 [==============================] - 131s 798ms/step - loss: 0.2009 - accuracy: 0.9343 - val_loss: 1.8493 - val_accuracy: 0.6830\n",
      "Epoch 68/100\n",
      "164/164 [==============================] - 131s 800ms/step - loss: 0.2208 - accuracy: 0.9234 - val_loss: 2.7241 - val_accuracy: 0.6360\n",
      "Epoch 69/100\n",
      "164/164 [==============================] - 132s 803ms/step - loss: 0.2303 - accuracy: 0.9308 - val_loss: 1.1849 - val_accuracy: 0.7420\n",
      "Epoch 70/100\n",
      "164/164 [==============================] - 132s 802ms/step - loss: 0.2437 - accuracy: 0.9251 - val_loss: 1.9374 - val_accuracy: 0.6820\n",
      "Epoch 71/100\n",
      "164/164 [==============================] - 132s 802ms/step - loss: 0.1755 - accuracy: 0.9392 - val_loss: 1.6704 - val_accuracy: 0.6970\n",
      "Epoch 72/100\n",
      "164/164 [==============================] - 131s 799ms/step - loss: 0.1915 - accuracy: 0.9398 - val_loss: 2.0746 - val_accuracy: 0.6750\n",
      "Epoch 73/100\n",
      "164/164 [==============================] - 131s 799ms/step - loss: 0.2270 - accuracy: 0.9302 - val_loss: 1.3618 - val_accuracy: 0.7190\n",
      "Epoch 74/100\n",
      "164/164 [==============================] - 131s 801ms/step - loss: 0.2924 - accuracy: 0.9128 - val_loss: 3.1087 - val_accuracy: 0.6220\n",
      "Epoch 75/100\n",
      "164/164 [==============================] - 132s 804ms/step - loss: 0.6187 - accuracy: 0.8781 - val_loss: 2.4359 - val_accuracy: 0.6720\n",
      "Epoch 76/100\n",
      "164/164 [==============================] - 132s 804ms/step - loss: 0.2035 - accuracy: 0.9411 - val_loss: 2.0482 - val_accuracy: 0.6910\n",
      "Epoch 77/100\n",
      "164/164 [==============================] - 133s 810ms/step - loss: 0.2335 - accuracy: 0.9333 - val_loss: 2.9483 - val_accuracy: 0.6310\n",
      "Epoch 78/100\n",
      "164/164 [==============================] - 135s 820ms/step - loss: 0.2136 - accuracy: 0.9392 - val_loss: 1.7334 - val_accuracy: 0.7010\n",
      "Epoch 79/100\n",
      "164/164 [==============================] - 131s 801ms/step - loss: 0.2533 - accuracy: 0.9203 - val_loss: 1.6580 - val_accuracy: 0.7080\n",
      "Epoch 80/100\n",
      "164/164 [==============================] - 132s 805ms/step - loss: 0.2730 - accuracy: 0.9226 - val_loss: 2.9864 - val_accuracy: 0.6320\n",
      "Epoch 81/100\n",
      "164/164 [==============================] - 132s 802ms/step - loss: 0.2540 - accuracy: 0.9247 - val_loss: 3.1295 - val_accuracy: 0.6150\n",
      "Epoch 82/100\n",
      "164/164 [==============================] - 131s 799ms/step - loss: 0.2204 - accuracy: 0.9293 - val_loss: 2.2033 - val_accuracy: 0.6760\n",
      "Epoch 83/100\n",
      "164/164 [==============================] - 132s 802ms/step - loss: 0.2025 - accuracy: 0.9352 - val_loss: 2.2473 - val_accuracy: 0.6710\n",
      "Epoch 84/100\n",
      "164/164 [==============================] - 131s 796ms/step - loss: 0.2312 - accuracy: 0.9299 - val_loss: 3.7341 - val_accuracy: 0.6000\n",
      "Epoch 85/100\n",
      "164/164 [==============================] - 132s 803ms/step - loss: 0.2968 - accuracy: 0.9214 - val_loss: 1.9670 - val_accuracy: 0.6860\n",
      "Epoch 86/100\n",
      "164/164 [==============================] - 131s 800ms/step - loss: 0.3196 - accuracy: 0.9132 - val_loss: 3.6832 - val_accuracy: 0.6060\n",
      "Epoch 87/100\n",
      "164/164 [==============================] - 132s 803ms/step - loss: 0.2027 - accuracy: 0.9385 - val_loss: 2.1982 - val_accuracy: 0.6770\n",
      "Epoch 88/100\n",
      "164/164 [==============================] - 132s 803ms/step - loss: 0.2229 - accuracy: 0.9316 - val_loss: 1.5777 - val_accuracy: 0.7180\n",
      "Epoch 89/100\n",
      "164/164 [==============================] - 131s 801ms/step - loss: 0.2246 - accuracy: 0.9320 - val_loss: 2.5791 - val_accuracy: 0.6590\n",
      "Epoch 90/100\n",
      "164/164 [==============================] - 131s 801ms/step - loss: 0.2324 - accuracy: 0.9278 - val_loss: 2.1493 - val_accuracy: 0.6800\n",
      "Epoch 91/100\n",
      "164/164 [==============================] - 131s 801ms/step - loss: 0.2480 - accuracy: 0.9247 - val_loss: 2.9867 - val_accuracy: 0.6370\n",
      "Epoch 92/100\n",
      "164/164 [==============================] - 131s 800ms/step - loss: 0.2366 - accuracy: 0.9295 - val_loss: 1.6285 - val_accuracy: 0.7110\n",
      "Epoch 93/100\n",
      "164/164 [==============================] - 132s 805ms/step - loss: 0.1742 - accuracy: 0.9436 - val_loss: 2.8924 - val_accuracy: 0.6350\n",
      "Epoch 94/100\n",
      "164/164 [==============================] - 132s 807ms/step - loss: 0.2944 - accuracy: 0.9214 - val_loss: 4.1978 - val_accuracy: 0.5710\n",
      "Epoch 95/100\n",
      "164/164 [==============================] - 132s 803ms/step - loss: 0.1743 - accuracy: 0.9471 - val_loss: 1.6005 - val_accuracy: 0.7090\n",
      "Epoch 96/100\n",
      "164/164 [==============================] - 131s 799ms/step - loss: 0.2490 - accuracy: 0.9272 - val_loss: 2.8967 - val_accuracy: 0.6380\n",
      "Epoch 97/100\n",
      "164/164 [==============================] - 131s 801ms/step - loss: 0.2045 - accuracy: 0.9385 - val_loss: 1.0637 - val_accuracy: 0.7290\n",
      "Epoch 98/100\n",
      "164/164 [==============================] - 132s 804ms/step - loss: 0.2143 - accuracy: 0.9335 - val_loss: 2.2506 - val_accuracy: 0.6770\n",
      "Epoch 99/100\n",
      "164/164 [==============================] - 132s 807ms/step - loss: 0.1896 - accuracy: 0.9404 - val_loss: 1.1950 - val_accuracy: 0.7380\n",
      "Epoch 100/100\n",
      "164/164 [==============================] - 131s 798ms/step - loss: 0.2179 - accuracy: 0.9367 - val_loss: 2.3450 - val_accuracy: 0.6710\n"
     ]
    }
   ],
   "source": [
    "r=model.fit_generator(\n",
    "    training_set,\n",
    "    validation_data=test_set,\n",
    "    epochs=100,\n",
    "    steps_per_epoch=len(training_set),\n",
    "    validation_steps=len(test_set)\n",
    ")"
   ]
  },
  {
   "cell_type": "code",
   "execution_count": 30,
   "metadata": {
    "colab": {
     "base_uri": "https://localhost:8080/",
     "height": 530
    },
    "id": "eNeUFrAOQSRU",
    "outputId": "ebedc06d-f81f-45b6-e909-95bd8e6fc127"
   },
   "outputs": [
    {
     "data": {
      "image/png": "[encoded data removed]",
      "text/plain": [
       "<Figure size 432x288 with 1 Axes>"
      ]
     },
     "metadata": {
      "needs_background": "light",
      "tags": []
     },
     "output_type": "display_data"
    },
    {
     "data": {
      "image/png": "[encoded data removed]",
      "text/plain": [
       "<Figure size 432x288 with 1 Axes>"
      ]
     },
     "metadata": {
      "needs_background": "light",
      "tags": []
     },
     "output_type": "display_data"
    },
    {
     "data": {
      "text/plain": [
       "<Figure size 432x288 with 0 Axes>"
      ]
     },
     "metadata": {
      "tags": []
     },
     "output_type": "display_data"
    }
   ],
   "source": [
    "import matplotlib.pyplot as plt\n",
    "# plot the loss\n",
    "plt.plot(r.history['loss'], label='train loss')\n",
    "plt.plot(r.history['val_loss'], label='val loss')\n",
    "plt.legend()\n",
    "plt.show()\n",
    "plt.savefig('LossVal_loss')\n",
    "\n",
    "# plot the accuracy\n",
    "plt.plot(r.history['accuracy'], label='train acc')\n",
    "plt.plot(r.history['val_accuracy'], label='val acc')\n",
    "plt.legend()\n",
    "plt.show()\n",
    "plt.savefig('AccVal_acc')"
   ]
  },
  {
   "cell_type": "code",
   "execution_count": 31,
   "metadata": {
    "id": "8TLIpF9_MBJM"
   },
   "outputs": [],
   "source": [
    "### Predictions\n",
    "import numpy as np\n",
    "from keras.preprocessing import image"
   ]
  },
  {
   "cell_type": "code",
   "execution_count": 35,
   "metadata": {
    "colab": {
     "base_uri": "https://localhost:8080/"
    },
    "id": "2RSskGPuMC-s",
    "outputId": "55b02c50-2d26-4a14-9fe0-ca41088652e7"
   },
   "outputs": [
    {
     "name": "stdout",
     "output_type": "stream",
     "text": [
      "Prediction: The person dont have Pneumonia.\n"
     ]
    }
   ],
   "source": [
    "test_image = image.load_img('/content/drive/MyDrive/Datasets/chest_xray/test/NORMAL/IM-0005-0001.jpeg', target_size = (224, 224))\n",
    "test_image = image.img_to_array(test_image)\n",
    "test_image = np.expand_dims(test_image, axis = 0)\n",
    "result = model.predict(test_image)\n",
    "\n",
    "if result[0][0] == 1:\n",
    "  print(\"Prediction: The person dont have Pneumonia.\")\n",
    "else:\n",
    "  print(\"Prediction: The person has Pneumonia.\")"
   ]
  },
  {
   "cell_type": "code",
   "execution_count": 36,
   "metadata": {
    "colab": {
     "base_uri": "https://localhost:8080/"
    },
    "id": "HwLzRoPkMFB4",
    "outputId": "38068752-5144-4131-c673-e4346ec0034f"
   },
   "outputs": [
    {
     "name": "stdout",
     "output_type": "stream",
     "text": [
      "Prediction: The person has Pneumonia.\n"
     ]
    }
   ],
   "source": [
    "test_image = image.load_img('/content/drive/MyDrive/Datasets/chest_xray/test/PNEUMONIA/Yes__0_1168.jpeg', target_size = (224, 224))\n",
    "test_image = image.img_to_array(test_image)\n",
    "test_image = np.expand_dims(test_image, axis = 0)\n",
    "result = model.predict(test_image)\n",
    "\n",
    "if result[0][0] == 1:\n",
    "  print(\"Prediction: The person dont have Pneumonia.\")\n",
    "else:\n",
    "  print(\"Prediction: The person has Pneumonia.\")"
   ]
  },
  {
   "cell_type": "code",
   "execution_count": 38,
   "metadata": {
    "id": "hyTB2OE4MG05"
   },
   "outputs": [],
   "source": [
    "model.save(\"/content/drive/MyDrive/Datasets/chest_xray/Pneumonia_model.h5\")"
   ]
  },
  {
   "cell_type": "code",
   "execution_count": null,
   "metadata": {
    "id": "tjwLtTVlQYMR"
   },
   "outputs": [],
   "source": []
  }
 ],
 "metadata": {
  "accelerator": "GPU",
  "colab": {
   "name": "Pneumoinia.ipynb",
   "provenance": [],
   "toc_visible": true
  },
  "kernelspec": {
   "display_name": "Python 3",
   "language": "python",
   "name": "python3"
  },
  "language_info": {
   "codemirror_mode": {
    "name": "ipython",
    "version": 3
   },
   "file_extension": ".py",
   "mimetype": "text/x-python",
   "name": "python",
   "nbconvert_exporter": "python",
   "pygments_lexer": "ipython3",
   "version": "3.8.5"
  }
 },
 "nbformat": 4,
 "nbformat_minor": 1
}
