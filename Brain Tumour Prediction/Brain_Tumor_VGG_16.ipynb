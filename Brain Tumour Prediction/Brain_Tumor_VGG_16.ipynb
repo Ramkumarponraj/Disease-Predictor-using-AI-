{
 "cells": [
  {
   "cell_type": "code",
   "execution_count": 1,
   "metadata": {
    "colab": {
     "base_uri": "https://localhost:8080/"
    },
    "id": "ITppdnbmCNUi",
    "outputId": "a9369863-1252-4ab2-ca6d-ac283e3ff371"
   },
   "outputs": [
    {
     "name": "stdout",
     "output_type": "stream",
     "text": [
      "Tue May  4 13:02:26 2021       \n",
      "+-----------------------------------------------------------------------------+\n",
      "| NVIDIA-SMI 465.19.01    Driver Version: 460.32.03    CUDA Version: 11.2     |\n",
      "|-------------------------------+----------------------+----------------------+\n",
      "| GPU  Name        Persistence-M| Bus-Id        Disp.A | Volatile Uncorr. ECC |\n",
      "| Fan  Temp  Perf  Pwr:Usage/Cap|         Memory-Usage | GPU-Util  Compute M. |\n",
      "|                               |                      |               MIG M. |\n",
      "|===============================+======================+======================|\n",
      "|   0  Tesla K80           Off  | 00000000:00:04.0 Off |                    0 |\n",
      "| N/A   58C    P8    32W / 149W |      0MiB / 11441MiB |      0%      Default |\n",
      "|                               |                      |                  N/A |\n",
      "+-------------------------------+----------------------+----------------------+\n",
      "                                                                               \n",
      "+-----------------------------------------------------------------------------+\n",
      "| Processes:                                                                  |\n",
      "|  GPU   GI   CI        PID   Type   Process name                  GPU Memory |\n",
      "|        ID   ID                                                   Usage      |\n",
      "|=============================================================================|\n",
      "|  No running processes found                                                 |\n",
      "+-----------------------------------------------------------------------------+\n"
     ]
    }
   ],
   "source": [
    "### Check which GPU is in use\n",
    "\n",
    "!nvidia-smi"
   ]
  },
  {
   "cell_type": "code",
   "execution_count": 2,
   "metadata": {
    "colab": {
     "base_uri": "https://localhost:8080/"
    },
    "id": "w53npWy7CZiv",
    "outputId": "0884aeb6-b672-49cc-d006-c574ee6609d5"
   },
   "outputs": [
    {
     "name": "stdout",
     "output_type": "stream",
     "text": [
      "Collecting tensorflow-gpu\n",
      "\u001b[?25l  Downloading https://files.pythonhosted.org/packages/85/cc/a27e73cf8b23f2ce4bdd2b7089a42a7819ce6dd7366dceba406ddc5daa9c/tensorflow_gpu-2.4.1-cp37-cp37m-manylinux2010_x86_64.whl (394.3MB)\n",
      "\u001b[K     |████████████████████████████████| 394.3MB 43kB/s \n",
      "\u001b[?25hRequirement already satisfied: tensorboard~=2.4 in /usr/local/lib/python3.7/dist-packages (from tensorflow-gpu) (2.4.1)\n",
      "Requirement already satisfied: protobuf>=3.9.2 in /usr/local/lib/python3.7/dist-packages (from tensorflow-gpu) (3.12.4)\n",
      "Requirement already satisfied: flatbuffers~=1.12.0 in /usr/local/lib/python3.7/dist-packages (from tensorflow-gpu) (1.12)\n",
      "Requirement already satisfied: google-pasta~=0.2 in /usr/local/lib/python3.7/dist-packages (from tensorflow-gpu) (0.2.0)\n",
      "Requirement already satisfied: wheel~=0.35 in /usr/local/lib/python3.7/dist-packages (from tensorflow-gpu) (0.36.2)\n",
      "Requirement already satisfied: six~=1.15.0 in /usr/local/lib/python3.7/dist-packages (from tensorflow-gpu) (1.15.0)\n",
      "Requirement already satisfied: numpy~=1.19.2 in /usr/local/lib/python3.7/dist-packages (from tensorflow-gpu) (1.19.5)\n",
      "Requirement already satisfied: grpcio~=1.32.0 in /usr/local/lib/python3.7/dist-packages (from tensorflow-gpu) (1.32.0)\n",
      "Requirement already satisfied: wrapt~=1.12.1 in /usr/local/lib/python3.7/dist-packages (from tensorflow-gpu) (1.12.1)\n",
      "Requirement already satisfied: keras-preprocessing~=1.1.2 in /usr/local/lib/python3.7/dist-packages (from tensorflow-gpu) (1.1.2)\n",
      "Requirement already satisfied: h5py~=2.10.0 in /usr/local/lib/python3.7/dist-packages (from tensorflow-gpu) (2.10.0)\n",
      "Requirement already satisfied: absl-py~=0.10 in /usr/local/lib/python3.7/dist-packages (from tensorflow-gpu) (0.12.0)\n",
      "Requirement already satisfied: termcolor~=1.1.0 in /usr/local/lib/python3.7/dist-packages (from tensorflow-gpu) (1.1.0)\n",
      "Requirement already satisfied: gast==0.3.3 in /usr/local/lib/python3.7/dist-packages (from tensorflow-gpu) (0.3.3)\n",
      "Requirement already satisfied: typing-extensions~=3.7.4 in /usr/local/lib/python3.7/dist-packages (from tensorflow-gpu) (3.7.4.3)\n",
      "Requirement already satisfied: tensorflow-estimator<2.5.0,>=2.4.0 in /usr/local/lib/python3.7/dist-packages (from tensorflow-gpu) (2.4.0)\n",
      "Requirement already satisfied: astunparse~=1.6.3 in /usr/local/lib/python3.7/dist-packages (from tensorflow-gpu) (1.6.3)\n",
      "Requirement already satisfied: opt-einsum~=3.3.0 in /usr/local/lib/python3.7/dist-packages (from tensorflow-gpu) (3.3.0)\n",
      "Requirement already satisfied: setuptools>=41.0.0 in /usr/local/lib/python3.7/dist-packages (from tensorboard~=2.4->tensorflow-gpu) (56.0.0)\n",
      "Requirement already satisfied: google-auth-oauthlib<0.5,>=0.4.1 in /usr/local/lib/python3.7/dist-packages (from tensorboard~=2.4->tensorflow-gpu) (0.4.4)\n",
      "Requirement already satisfied: tensorboard-plugin-wit>=1.6.0 in /usr/local/lib/python3.7/dist-packages (from tensorboard~=2.4->tensorflow-gpu) (1.8.0)\n",
      "Requirement already satisfied: markdown>=2.6.8 in /usr/local/lib/python3.7/dist-packages (from tensorboard~=2.4->tensorflow-gpu) (3.3.4)\n",
      "Requirement already satisfied: requests<3,>=2.21.0 in /usr/local/lib/python3.7/dist-packages (from tensorboard~=2.4->tensorflow-gpu) (2.23.0)\n",
      "Requirement already satisfied: werkzeug>=0.11.15 in /usr/local/lib/python3.7/dist-packages (from tensorboard~=2.4->tensorflow-gpu) (1.0.1)\n",
      "Requirement already satisfied: google-auth<2,>=1.6.3 in /usr/local/lib/python3.7/dist-packages (from tensorboard~=2.4->tensorflow-gpu) (1.28.1)\n",
      "Requirement already satisfied: requests-oauthlib>=0.7.0 in /usr/local/lib/python3.7/dist-packages (from google-auth-oauthlib<0.5,>=0.4.1->tensorboard~=2.4->tensorflow-gpu) (1.3.0)\n",
      "Requirement already satisfied: importlib-metadata; python_version < \"3.8\" in /usr/local/lib/python3.7/dist-packages (from markdown>=2.6.8->tensorboard~=2.4->tensorflow-gpu) (3.10.1)\n",
      "Requirement already satisfied: idna<3,>=2.5 in /usr/local/lib/python3.7/dist-packages (from requests<3,>=2.21.0->tensorboard~=2.4->tensorflow-gpu) (2.10)\n",
      "Requirement already satisfied: certifi>=2017.4.17 in /usr/local/lib/python3.7/dist-packages (from requests<3,>=2.21.0->tensorboard~=2.4->tensorflow-gpu) (2020.12.5)\n",
      "Requirement already satisfied: urllib3!=1.25.0,!=1.25.1,<1.26,>=1.21.1 in /usr/local/lib/python3.7/dist-packages (from requests<3,>=2.21.0->tensorboard~=2.4->tensorflow-gpu) (1.24.3)\n",
      "Requirement already satisfied: chardet<4,>=3.0.2 in /usr/local/lib/python3.7/dist-packages (from requests<3,>=2.21.0->tensorboard~=2.4->tensorflow-gpu) (3.0.4)\n",
      "Requirement already satisfied: cachetools<5.0,>=2.0.0 in /usr/local/lib/python3.7/dist-packages (from google-auth<2,>=1.6.3->tensorboard~=2.4->tensorflow-gpu) (4.2.1)\n",
      "Requirement already satisfied: pyasn1-modules>=0.2.1 in /usr/local/lib/python3.7/dist-packages (from google-auth<2,>=1.6.3->tensorboard~=2.4->tensorflow-gpu) (0.2.8)\n",
      "Requirement already satisfied: rsa<5,>=3.1.4; python_version >= \"3.6\" in /usr/local/lib/python3.7/dist-packages (from google-auth<2,>=1.6.3->tensorboard~=2.4->tensorflow-gpu) (4.7.2)\n",
      "Requirement already satisfied: oauthlib>=3.0.0 in /usr/local/lib/python3.7/dist-packages (from requests-oauthlib>=0.7.0->google-auth-oauthlib<0.5,>=0.4.1->tensorboard~=2.4->tensorflow-gpu) (3.1.0)\n",
      "Requirement already satisfied: zipp>=0.5 in /usr/local/lib/python3.7/dist-packages (from importlib-metadata; python_version < \"3.8\"->markdown>=2.6.8->tensorboard~=2.4->tensorflow-gpu) (3.4.1)\n",
      "Requirement already satisfied: pyasn1<0.5.0,>=0.4.6 in /usr/local/lib/python3.7/dist-packages (from pyasn1-modules>=0.2.1->google-auth<2,>=1.6.3->tensorboard~=2.4->tensorflow-gpu) (0.4.8)\n",
      "Installing collected packages: tensorflow-gpu\n",
      "Successfully installed tensorflow-gpu-2.4.1\n"
     ]
    }
   ],
   "source": [
    "!pip install tensorflow-gpu"
   ]
  },
  {
   "cell_type": "code",
   "execution_count": 3,
   "metadata": {
    "colab": {
     "base_uri": "https://localhost:8080/"
    },
    "id": "hcPY95ERSps5",
    "outputId": "e7bf8cc8-2a4d-40ee-a589-e7d2fed4c89e"
   },
   "outputs": [
    {
     "name": "stdout",
     "output_type": "stream",
     "text": [
      "2.4.1\n"
     ]
    }
   ],
   "source": [
    "### Installing tensorflow and checking the version\n",
    "\n",
    "import tensorflow as tf\n",
    "print(tf.__version__)"
   ]
  },
  {
   "cell_type": "code",
   "execution_count": 4,
   "metadata": {
    "id": "jKuCNoyHTD2M"
   },
   "outputs": [],
   "source": [
    "# Importing all necessaries libraries\n",
    "\n",
    "from tensorflow.keras.layers import Dense,Flatten,Input,Lambda\n",
    "from tensorflow.keras.models import Model\n",
    "from tensorflow.keras.applications.vgg16 import VGG16\n",
    "from tensorflow.keras.preprocessing import image\n",
    "from tensorflow.keras.preprocessing.image import load_img,ImageDataGenerator\n",
    "from tensorflow.keras.models import Sequential\n",
    "import pandas as pd\n",
    "import numpy as np\n",
    "from glob import glob"
   ]
  },
  {
   "cell_type": "code",
   "execution_count": 5,
   "metadata": {
    "id": "abbj-puRTKCH"
   },
   "outputs": [],
   "source": [
    "### Resizing all images\n",
    "\n",
    "IMAGE_SIZE=[224,224]"
   ]
  },
  {
   "cell_type": "code",
   "execution_count": 6,
   "metadata": {
    "id": "pLldxr87TNWi"
   },
   "outputs": [],
   "source": [
    "### Read the data from the drive\n",
    "\n",
    "train_path='/content/drive/MyDrive/Datasets/Brain Tumor/brain_tumor_dataset/Train'\n",
    "test_path='/content/drive/MyDrive/Datasets/Brain Tumor/brain_tumor_dataset/Test'"
   ]
  },
  {
   "cell_type": "code",
   "execution_count": 7,
   "metadata": {
    "colab": {
     "base_uri": "https://localhost:8080/"
    },
    "id": "JrVPyBv1Tn7g",
    "outputId": "d640498f-4cb1-4a50-a6ba-8b36ec14b045"
   },
   "outputs": [
    {
     "name": "stdout",
     "output_type": "stream",
     "text": [
      "Downloading data from https://storage.googleapis.com/tensorflow/keras-applications/vgg16/vgg16_weights_tf_dim_ordering_tf_kernels_notop.h5\n",
      "58892288/58889256 [==============================] - 1s 0us/step\n"
     ]
    }
   ],
   "source": [
    "vgg16=VGG16(input_shape=IMAGE_SIZE+[3],weights='imagenet',include_top=False)"
   ]
  },
  {
   "cell_type": "code",
   "execution_count": 8,
   "metadata": {
    "id": "gMR8D1Q8TqnN"
   },
   "outputs": [],
   "source": [
    "for layer in vgg16.layers:\n",
    "  layer.trainable=False"
   ]
  },
  {
   "cell_type": "code",
   "execution_count": 9,
   "metadata": {
    "id": "FftJimCrT8_E"
   },
   "outputs": [],
   "source": [
    "folders=glob('/content/drive/MyDrive/Datasets/Brain Tumor/brain_tumor_dataset/Train/*')"
   ]
  },
  {
   "cell_type": "code",
   "execution_count": 10,
   "metadata": {
    "colab": {
     "base_uri": "https://localhost:8080/"
    },
    "id": "XF134DmQUC_9",
    "outputId": "33b337ef-9933-4194-fde2-9e89ebbfd712"
   },
   "outputs": [
    {
     "data": {
      "text/plain": [
       "['/content/drive/MyDrive/Datasets/Brain Tumor/brain_tumor_dataset/Train/Yes',\n",
       " '/content/drive/MyDrive/Datasets/Brain Tumor/brain_tumor_dataset/Train/No']"
      ]
     },
     "execution_count": 10,
     "metadata": {
      "tags": []
     },
     "output_type": "execute_result"
    }
   ],
   "source": [
    "folders"
   ]
  },
  {
   "cell_type": "code",
   "execution_count": 11,
   "metadata": {
    "id": "_i5-AUcDUEJo"
   },
   "outputs": [],
   "source": [
    "x=Flatten()(vgg16.output)"
   ]
  },
  {
   "cell_type": "code",
   "execution_count": 12,
   "metadata": {
    "id": "6dZvqcYJUJPx"
   },
   "outputs": [],
   "source": [
    "prediction=Dense(len(folders),activation='softmax')(x)"
   ]
  },
  {
   "cell_type": "code",
   "execution_count": 13,
   "metadata": {
    "id": "FuKxq7kwUZgK"
   },
   "outputs": [],
   "source": [
    "model=Model(inputs=vgg16.input,outputs=prediction)"
   ]
  },
  {
   "cell_type": "code",
   "execution_count": 14,
   "metadata": {
    "colab": {
     "base_uri": "https://localhost:8080/"
    },
    "id": "C-mK5rnvUbNd",
    "outputId": "c763189e-b3dd-4944-ddf1-963ddb4e9091"
   },
   "outputs": [
    {
     "name": "stdout",
     "output_type": "stream",
     "text": [
      "Model: \"model\"\n",
      "_________________________________________________________________\n",
      "Layer (type)                 Output Shape              Param #   \n",
      "=================================================================\n",
      "input_1 (InputLayer)         [(None, 224, 224, 3)]     0         \n",
      "_________________________________________________________________\n",
      "block1_conv1 (Conv2D)        (None, 224, 224, 64)      1792      \n",
      "_________________________________________________________________\n",
      "block1_conv2 (Conv2D)        (None, 224, 224, 64)      36928     \n",
      "_________________________________________________________________\n",
      "block1_pool (MaxPooling2D)   (None, 112, 112, 64)      0         \n",
      "_________________________________________________________________\n",
      "block2_conv1 (Conv2D)        (None, 112, 112, 128)     73856     \n",
      "_________________________________________________________________\n",
      "block2_conv2 (Conv2D)        (None, 112, 112, 128)     147584    \n",
      "_________________________________________________________________\n",
      "block2_pool (MaxPooling2D)   (None, 56, 56, 128)       0         \n",
      "_________________________________________________________________\n",
      "block3_conv1 (Conv2D)        (None, 56, 56, 256)       295168    \n",
      "_________________________________________________________________\n",
      "block3_conv2 (Conv2D)        (None, 56, 56, 256)       590080    \n",
      "_________________________________________________________________\n",
      "block3_conv3 (Conv2D)        (None, 56, 56, 256)       590080    \n",
      "_________________________________________________________________\n",
      "block3_pool (MaxPooling2D)   (None, 28, 28, 256)       0         \n",
      "_________________________________________________________________\n",
      "block4_conv1 (Conv2D)        (None, 28, 28, 512)       1180160   \n",
      "_________________________________________________________________\n",
      "block4_conv2 (Conv2D)        (None, 28, 28, 512)       2359808   \n",
      "_________________________________________________________________\n",
      "block4_conv3 (Conv2D)        (None, 28, 28, 512)       2359808   \n",
      "_________________________________________________________________\n",
      "block4_pool (MaxPooling2D)   (None, 14, 14, 512)       0         \n",
      "_________________________________________________________________\n",
      "block5_conv1 (Conv2D)        (None, 14, 14, 512)       2359808   \n",
      "_________________________________________________________________\n",
      "block5_conv2 (Conv2D)        (None, 14, 14, 512)       2359808   \n",
      "_________________________________________________________________\n",
      "block5_conv3 (Conv2D)        (None, 14, 14, 512)       2359808   \n",
      "_________________________________________________________________\n",
      "block5_pool (MaxPooling2D)   (None, 7, 7, 512)         0         \n",
      "_________________________________________________________________\n",
      "flatten (Flatten)            (None, 25088)             0         \n",
      "_________________________________________________________________\n",
      "dense (Dense)                (None, 2)                 50178     \n",
      "=================================================================\n",
      "Total params: 14,764,866\n",
      "Trainable params: 50,178\n",
      "Non-trainable params: 14,714,688\n",
      "_________________________________________________________________\n"
     ]
    }
   ],
   "source": [
    "model.summary()"
   ]
  },
  {
   "cell_type": "code",
   "execution_count": 15,
   "metadata": {
    "id": "v5xz4lDpUgKz"
   },
   "outputs": [],
   "source": [
    "model.compile(optimizer='adam',loss='categorical_crossentropy',metrics=['accuracy'])"
   ]
  },
  {
   "cell_type": "code",
   "execution_count": 16,
   "metadata": {
    "id": "Sjxz8_whVTGT"
   },
   "outputs": [],
   "source": [
    "train_datagen=ImageDataGenerator(rescale=1./255,\n",
    "                                  shear_range=0.2,\n",
    "                                  zoom_range=0.2,\n",
    "                                  horizontal_flip=True\n",
    "                                  )\n",
    "test_datagen=ImageDataGenerator(rescale=1./255)"
   ]
  },
  {
   "cell_type": "code",
   "execution_count": 17,
   "metadata": {
    "colab": {
     "base_uri": "https://localhost:8080/"
    },
    "id": "GGD8sg-dVVxx",
    "outputId": "0da6d76b-6ad4-4c0b-9cd5-c4b80f77904c"
   },
   "outputs": [
    {
     "name": "stdout",
     "output_type": "stream",
     "text": [
      "Found 300 images belonging to 2 classes.\n"
     ]
    }
   ],
   "source": [
    "training_set=train_datagen.flow_from_directory('/content/drive/MyDrive/Datasets/Brain Tumor/brain_tumor_dataset/Train',\n",
    "                                               target_size=(224,224),\n",
    "                                               batch_size=16,\n",
    "                                               class_mode='categorical')"
   ]
  },
  {
   "cell_type": "code",
   "execution_count": 18,
   "metadata": {
    "colab": {
     "base_uri": "https://localhost:8080/"
    },
    "id": "FN5ynnm8VezP",
    "outputId": "2dca058f-cf98-47f5-f9d3-613b0e61751a"
   },
   "outputs": [
    {
     "name": "stdout",
     "output_type": "stream",
     "text": [
      "Found 100 images belonging to 2 classes.\n"
     ]
    }
   ],
   "source": [
    "test_set=test_datagen.flow_from_directory('/content/drive/MyDrive/Datasets/Brain Tumor/brain_tumor_dataset/Test',\n",
    "                                               target_size=(224,224),\n",
    "                                               batch_size=16,\n",
    "                                               class_mode='categorical')"
   ]
  },
  {
   "cell_type": "code",
   "execution_count": 19,
   "metadata": {
    "colab": {
     "base_uri": "https://localhost:8080/"
    },
    "id": "oMMnsIkoVnUu",
    "outputId": "605242ca-4c9c-4da5-eb54-cfd4e67fdb6a"
   },
   "outputs": [
    {
     "name": "stderr",
     "output_type": "stream",
     "text": [
      "/usr/local/lib/python3.7/dist-packages/tensorflow/python/keras/engine/training.py:1844: UserWarning: `Model.fit_generator` is deprecated and will be removed in a future version. Please use `Model.fit`, which supports generators.\n",
      "  warnings.warn('`Model.fit_generator` is deprecated and '\n"
     ]
    },
    {
     "name": "stdout",
     "output_type": "stream",
     "text": [
      "Epoch 1/100\n",
      "19/19 [==============================] - 231s 11s/step - loss: 1.1862 - accuracy: 0.5891 - val_loss: 0.7549 - val_accuracy: 0.7000\n",
      "Epoch 2/100\n",
      "19/19 [==============================] - 7s 344ms/step - loss: 0.6374 - accuracy: 0.8009 - val_loss: 0.3979 - val_accuracy: 0.8500\n",
      "Epoch 3/100\n",
      "19/19 [==============================] - 7s 348ms/step - loss: 0.2774 - accuracy: 0.8856 - val_loss: 0.3653 - val_accuracy: 0.8600\n",
      "Epoch 4/100\n",
      "19/19 [==============================] - 7s 350ms/step - loss: 0.2062 - accuracy: 0.9259 - val_loss: 0.2979 - val_accuracy: 0.8900\n",
      "Epoch 5/100\n",
      "19/19 [==============================] - 7s 346ms/step - loss: 0.1647 - accuracy: 0.9399 - val_loss: 0.4019 - val_accuracy: 0.8400\n",
      "Epoch 6/100\n",
      "19/19 [==============================] - 7s 346ms/step - loss: 0.1147 - accuracy: 0.9707 - val_loss: 0.3115 - val_accuracy: 0.8800\n",
      "Epoch 7/100\n",
      "19/19 [==============================] - 7s 347ms/step - loss: 0.1035 - accuracy: 0.9841 - val_loss: 0.3005 - val_accuracy: 0.8800\n",
      "Epoch 8/100\n",
      "19/19 [==============================] - 7s 339ms/step - loss: 0.1057 - accuracy: 0.9633 - val_loss: 0.3441 - val_accuracy: 0.8500\n",
      "Epoch 9/100\n",
      "19/19 [==============================] - 7s 340ms/step - loss: 0.1305 - accuracy: 0.9453 - val_loss: 0.3943 - val_accuracy: 0.8400\n",
      "Epoch 10/100\n",
      "19/19 [==============================] - 7s 344ms/step - loss: 0.0895 - accuracy: 0.9638 - val_loss: 0.3302 - val_accuracy: 0.8600\n",
      "Epoch 11/100\n",
      "19/19 [==============================] - 7s 345ms/step - loss: 0.0660 - accuracy: 0.9805 - val_loss: 0.3080 - val_accuracy: 0.8700\n",
      "Epoch 12/100\n",
      "19/19 [==============================] - 7s 346ms/step - loss: 0.0580 - accuracy: 0.9989 - val_loss: 0.2913 - val_accuracy: 0.9000\n",
      "Epoch 13/100\n",
      "19/19 [==============================] - 7s 346ms/step - loss: 0.0559 - accuracy: 0.9859 - val_loss: 0.4664 - val_accuracy: 0.8500\n",
      "Epoch 14/100\n",
      "19/19 [==============================] - 7s 347ms/step - loss: 0.0485 - accuracy: 0.9933 - val_loss: 0.2963 - val_accuracy: 0.9100\n",
      "Epoch 15/100\n",
      "19/19 [==============================] - 7s 345ms/step - loss: 0.0780 - accuracy: 0.9645 - val_loss: 0.3491 - val_accuracy: 0.8700\n",
      "Epoch 16/100\n",
      "19/19 [==============================] - 7s 350ms/step - loss: 0.0450 - accuracy: 0.9888 - val_loss: 0.3624 - val_accuracy: 0.8700\n",
      "Epoch 17/100\n",
      "19/19 [==============================] - 7s 344ms/step - loss: 0.0346 - accuracy: 0.9914 - val_loss: 0.5857 - val_accuracy: 0.8100\n",
      "Epoch 18/100\n",
      "19/19 [==============================] - 7s 343ms/step - loss: 0.0601 - accuracy: 0.9762 - val_loss: 0.3681 - val_accuracy: 0.8600\n",
      "Epoch 19/100\n",
      "19/19 [==============================] - 7s 343ms/step - loss: 0.0687 - accuracy: 0.9859 - val_loss: 0.4125 - val_accuracy: 0.8600\n",
      "Epoch 20/100\n",
      "19/19 [==============================] - 7s 343ms/step - loss: 0.0398 - accuracy: 0.9837 - val_loss: 0.3121 - val_accuracy: 0.9000\n",
      "Epoch 21/100\n",
      "19/19 [==============================] - 7s 343ms/step - loss: 0.0245 - accuracy: 1.0000 - val_loss: 0.4507 - val_accuracy: 0.8500\n",
      "Epoch 22/100\n",
      "19/19 [==============================] - 7s 345ms/step - loss: 0.0289 - accuracy: 0.9968 - val_loss: 0.3309 - val_accuracy: 0.8900\n",
      "Epoch 23/100\n",
      "19/19 [==============================] - 7s 343ms/step - loss: 0.0288 - accuracy: 1.0000 - val_loss: 0.4226 - val_accuracy: 0.8700\n",
      "Epoch 24/100\n",
      "19/19 [==============================] - 7s 343ms/step - loss: 0.0211 - accuracy: 1.0000 - val_loss: 0.4127 - val_accuracy: 0.8700\n",
      "Epoch 25/100\n",
      "19/19 [==============================] - 7s 350ms/step - loss: 0.0272 - accuracy: 0.9972 - val_loss: 0.4264 - val_accuracy: 0.8700\n",
      "Epoch 26/100\n",
      "19/19 [==============================] - 7s 346ms/step - loss: 0.0214 - accuracy: 0.9895 - val_loss: 0.3753 - val_accuracy: 0.8900\n",
      "Epoch 27/100\n",
      "19/19 [==============================] - 7s 342ms/step - loss: 0.0245 - accuracy: 1.0000 - val_loss: 0.3642 - val_accuracy: 0.8900\n",
      "Epoch 28/100\n",
      "19/19 [==============================] - 7s 343ms/step - loss: 0.0147 - accuracy: 1.0000 - val_loss: 0.3908 - val_accuracy: 0.8900\n",
      "Epoch 29/100\n",
      "19/19 [==============================] - 7s 346ms/step - loss: 0.0167 - accuracy: 1.0000 - val_loss: 0.3958 - val_accuracy: 0.8800\n",
      "Epoch 30/100\n",
      "19/19 [==============================] - 7s 345ms/step - loss: 0.0165 - accuracy: 1.0000 - val_loss: 0.3708 - val_accuracy: 0.8900\n",
      "Epoch 31/100\n",
      "19/19 [==============================] - 7s 348ms/step - loss: 0.0250 - accuracy: 1.0000 - val_loss: 0.4672 - val_accuracy: 0.8500\n",
      "Epoch 32/100\n",
      "19/19 [==============================] - 7s 345ms/step - loss: 0.0202 - accuracy: 0.9984 - val_loss: 0.5933 - val_accuracy: 0.8300\n",
      "Epoch 33/100\n",
      "19/19 [==============================] - 7s 344ms/step - loss: 0.0165 - accuracy: 1.0000 - val_loss: 0.4657 - val_accuracy: 0.8700\n",
      "Epoch 34/100\n",
      "19/19 [==============================] - 7s 347ms/step - loss: 0.0103 - accuracy: 0.9993 - val_loss: 0.3991 - val_accuracy: 0.8700\n",
      "Epoch 35/100\n",
      "19/19 [==============================] - 7s 352ms/step - loss: 0.0119 - accuracy: 1.0000 - val_loss: 0.4890 - val_accuracy: 0.8600\n",
      "Epoch 36/100\n",
      "19/19 [==============================] - 6s 335ms/step - loss: 0.0119 - accuracy: 1.0000 - val_loss: 0.4793 - val_accuracy: 0.8400\n",
      "Epoch 37/100\n",
      "19/19 [==============================] - 6s 337ms/step - loss: 0.0103 - accuracy: 1.0000 - val_loss: 0.4726 - val_accuracy: 0.8700\n",
      "Epoch 38/100\n",
      "19/19 [==============================] - 7s 341ms/step - loss: 0.0075 - accuracy: 1.0000 - val_loss: 0.4936 - val_accuracy: 0.8600\n",
      "Epoch 39/100\n",
      "19/19 [==============================] - 7s 344ms/step - loss: 0.0087 - accuracy: 1.0000 - val_loss: 0.4456 - val_accuracy: 0.8700\n",
      "Epoch 40/100\n",
      "19/19 [==============================] - 7s 344ms/step - loss: 0.0094 - accuracy: 1.0000 - val_loss: 0.4539 - val_accuracy: 0.8700\n",
      "Epoch 41/100\n",
      "19/19 [==============================] - 7s 346ms/step - loss: 0.0081 - accuracy: 1.0000 - val_loss: 0.4123 - val_accuracy: 0.8700\n",
      "Epoch 42/100\n",
      "19/19 [==============================] - 7s 344ms/step - loss: 0.0084 - accuracy: 1.0000 - val_loss: 0.4159 - val_accuracy: 0.8700\n",
      "Epoch 43/100\n",
      "19/19 [==============================] - 7s 348ms/step - loss: 0.0077 - accuracy: 1.0000 - val_loss: 0.3776 - val_accuracy: 0.8800\n",
      "Epoch 44/100\n",
      "19/19 [==============================] - 7s 345ms/step - loss: 0.0096 - accuracy: 1.0000 - val_loss: 0.4364 - val_accuracy: 0.8800\n",
      "Epoch 45/100\n",
      "19/19 [==============================] - 7s 347ms/step - loss: 0.0082 - accuracy: 1.0000 - val_loss: 0.4986 - val_accuracy: 0.8700\n",
      "Epoch 46/100\n",
      "19/19 [==============================] - 7s 347ms/step - loss: 0.0114 - accuracy: 1.0000 - val_loss: 0.5892 - val_accuracy: 0.8200\n",
      "Epoch 47/100\n",
      "19/19 [==============================] - 7s 344ms/step - loss: 0.0149 - accuracy: 1.0000 - val_loss: 0.5620 - val_accuracy: 0.8100\n",
      "Epoch 48/100\n",
      "19/19 [==============================] - 7s 344ms/step - loss: 0.0163 - accuracy: 1.0000 - val_loss: 0.5177 - val_accuracy: 0.8700\n",
      "Epoch 49/100\n",
      "19/19 [==============================] - 7s 347ms/step - loss: 0.0077 - accuracy: 1.0000 - val_loss: 0.4668 - val_accuracy: 0.8700\n",
      "Epoch 50/100\n",
      "19/19 [==============================] - 7s 346ms/step - loss: 0.0069 - accuracy: 1.0000 - val_loss: 0.5195 - val_accuracy: 0.8700\n",
      "Epoch 51/100\n",
      "19/19 [==============================] - 7s 349ms/step - loss: 0.0050 - accuracy: 1.0000 - val_loss: 0.5043 - val_accuracy: 0.8700\n",
      "Epoch 52/100\n",
      "19/19 [==============================] - 7s 342ms/step - loss: 0.0103 - accuracy: 1.0000 - val_loss: 0.4450 - val_accuracy: 0.8800\n",
      "Epoch 53/100\n",
      "19/19 [==============================] - 7s 343ms/step - loss: 0.0058 - accuracy: 1.0000 - val_loss: 0.5394 - val_accuracy: 0.8700\n",
      "Epoch 54/100\n",
      "19/19 [==============================] - 7s 349ms/step - loss: 0.0057 - accuracy: 1.0000 - val_loss: 0.5391 - val_accuracy: 0.8700\n",
      "Epoch 55/100\n",
      "19/19 [==============================] - 7s 345ms/step - loss: 0.0115 - accuracy: 1.0000 - val_loss: 0.5744 - val_accuracy: 0.8500\n",
      "Epoch 56/100\n",
      "19/19 [==============================] - 7s 345ms/step - loss: 0.0061 - accuracy: 1.0000 - val_loss: 0.5382 - val_accuracy: 0.8600\n",
      "Epoch 57/100\n",
      "19/19 [==============================] - 7s 345ms/step - loss: 0.0044 - accuracy: 1.0000 - val_loss: 0.5141 - val_accuracy: 0.8700\n",
      "Epoch 58/100\n",
      "19/19 [==============================] - 7s 345ms/step - loss: 0.0052 - accuracy: 1.0000 - val_loss: 0.4629 - val_accuracy: 0.8900\n",
      "Epoch 59/100\n",
      "19/19 [==============================] - 7s 345ms/step - loss: 0.0041 - accuracy: 1.0000 - val_loss: 0.4267 - val_accuracy: 0.8900\n",
      "Epoch 60/100\n",
      "19/19 [==============================] - 7s 354ms/step - loss: 0.0043 - accuracy: 1.0000 - val_loss: 0.4817 - val_accuracy: 0.8800\n",
      "Epoch 61/100\n",
      "19/19 [==============================] - 7s 345ms/step - loss: 0.0055 - accuracy: 1.0000 - val_loss: 0.4599 - val_accuracy: 0.8800\n",
      "Epoch 62/100\n",
      "19/19 [==============================] - 7s 347ms/step - loss: 0.0046 - accuracy: 1.0000 - val_loss: 0.5401 - val_accuracy: 0.8700\n",
      "Epoch 63/100\n",
      "19/19 [==============================] - 7s 348ms/step - loss: 0.0043 - accuracy: 1.0000 - val_loss: 0.4609 - val_accuracy: 0.8800\n",
      "Epoch 64/100\n",
      "19/19 [==============================] - 7s 347ms/step - loss: 0.0036 - accuracy: 1.0000 - val_loss: 0.4821 - val_accuracy: 0.8700\n",
      "Epoch 65/100\n",
      "19/19 [==============================] - 7s 352ms/step - loss: 0.0049 - accuracy: 1.0000 - val_loss: 0.4939 - val_accuracy: 0.8700\n",
      "Epoch 66/100\n",
      "19/19 [==============================] - 7s 351ms/step - loss: 0.0039 - accuracy: 1.0000 - val_loss: 0.4552 - val_accuracy: 0.8900\n",
      "Epoch 67/100\n",
      "19/19 [==============================] - 7s 350ms/step - loss: 0.0040 - accuracy: 1.0000 - val_loss: 0.5027 - val_accuracy: 0.8800\n",
      "Epoch 68/100\n",
      "19/19 [==============================] - 7s 349ms/step - loss: 0.0057 - accuracy: 1.0000 - val_loss: 0.3913 - val_accuracy: 0.9000\n",
      "Epoch 69/100\n",
      "19/19 [==============================] - 7s 347ms/step - loss: 0.0050 - accuracy: 1.0000 - val_loss: 0.5919 - val_accuracy: 0.8200\n",
      "Epoch 70/100\n",
      "19/19 [==============================] - 7s 345ms/step - loss: 0.0034 - accuracy: 1.0000 - val_loss: 0.5233 - val_accuracy: 0.8800\n",
      "Epoch 71/100\n",
      "19/19 [==============================] - 7s 347ms/step - loss: 0.0044 - accuracy: 1.0000 - val_loss: 0.5788 - val_accuracy: 0.8300\n",
      "Epoch 72/100\n",
      "19/19 [==============================] - 7s 347ms/step - loss: 0.0058 - accuracy: 1.0000 - val_loss: 0.6100 - val_accuracy: 0.8200\n",
      "Epoch 73/100\n",
      "19/19 [==============================] - 7s 343ms/step - loss: 0.0060 - accuracy: 1.0000 - val_loss: 0.5292 - val_accuracy: 0.8800\n",
      "Epoch 74/100\n",
      "19/19 [==============================] - 7s 342ms/step - loss: 0.0040 - accuracy: 1.0000 - val_loss: 0.5581 - val_accuracy: 0.8700\n",
      "Epoch 75/100\n",
      "19/19 [==============================] - 6s 339ms/step - loss: 0.0037 - accuracy: 1.0000 - val_loss: 0.4610 - val_accuracy: 0.8800\n",
      "Epoch 76/100\n",
      "19/19 [==============================] - 6s 339ms/step - loss: 0.0027 - accuracy: 1.0000 - val_loss: 0.4955 - val_accuracy: 0.8900\n",
      "Epoch 77/100\n",
      "19/19 [==============================] - 6s 337ms/step - loss: 0.0045 - accuracy: 1.0000 - val_loss: 0.5410 - val_accuracy: 0.8800\n",
      "Epoch 78/100\n",
      "19/19 [==============================] - 7s 347ms/step - loss: 0.0044 - accuracy: 1.0000 - val_loss: 0.5879 - val_accuracy: 0.8300\n",
      "Epoch 79/100\n",
      "19/19 [==============================] - 7s 345ms/step - loss: 0.0041 - accuracy: 1.0000 - val_loss: 0.5126 - val_accuracy: 0.8800\n",
      "Epoch 80/100\n",
      "19/19 [==============================] - 7s 347ms/step - loss: 0.0024 - accuracy: 1.0000 - val_loss: 0.5288 - val_accuracy: 0.8800\n",
      "Epoch 81/100\n",
      "19/19 [==============================] - 7s 348ms/step - loss: 0.0031 - accuracy: 1.0000 - val_loss: 0.5508 - val_accuracy: 0.8800\n",
      "Epoch 82/100\n",
      "19/19 [==============================] - 7s 347ms/step - loss: 0.0040 - accuracy: 1.0000 - val_loss: 0.4659 - val_accuracy: 0.8900\n",
      "Epoch 83/100\n",
      "19/19 [==============================] - 7s 346ms/step - loss: 0.0050 - accuracy: 1.0000 - val_loss: 0.4752 - val_accuracy: 0.8900\n",
      "Epoch 84/100\n",
      "19/19 [==============================] - 7s 350ms/step - loss: 0.0028 - accuracy: 1.0000 - val_loss: 0.5002 - val_accuracy: 0.8900\n",
      "Epoch 85/100\n",
      "19/19 [==============================] - 7s 352ms/step - loss: 0.0030 - accuracy: 1.0000 - val_loss: 0.5504 - val_accuracy: 0.8800\n",
      "Epoch 86/100\n",
      "19/19 [==============================] - 7s 353ms/step - loss: 0.0026 - accuracy: 1.0000 - val_loss: 0.5411 - val_accuracy: 0.8800\n",
      "Epoch 87/100\n",
      "19/19 [==============================] - 7s 351ms/step - loss: 0.0027 - accuracy: 1.0000 - val_loss: 0.4986 - val_accuracy: 0.8900\n",
      "Epoch 88/100\n",
      "19/19 [==============================] - 7s 352ms/step - loss: 0.0030 - accuracy: 1.0000 - val_loss: 0.5457 - val_accuracy: 0.8900\n",
      "Epoch 89/100\n",
      "19/19 [==============================] - 7s 354ms/step - loss: 0.0031 - accuracy: 1.0000 - val_loss: 0.5235 - val_accuracy: 0.8900\n",
      "Epoch 90/100\n",
      "19/19 [==============================] - 7s 345ms/step - loss: 0.0025 - accuracy: 1.0000 - val_loss: 0.5670 - val_accuracy: 0.8800\n",
      "Epoch 91/100\n",
      "19/19 [==============================] - 7s 346ms/step - loss: 0.0026 - accuracy: 1.0000 - val_loss: 0.6060 - val_accuracy: 0.8600\n",
      "Epoch 92/100\n",
      "19/19 [==============================] - 7s 346ms/step - loss: 0.0030 - accuracy: 1.0000 - val_loss: 0.5523 - val_accuracy: 0.8800\n",
      "Epoch 93/100\n",
      "19/19 [==============================] - 7s 345ms/step - loss: 0.0024 - accuracy: 1.0000 - val_loss: 0.4952 - val_accuracy: 0.8900\n",
      "Epoch 94/100\n",
      "19/19 [==============================] - 7s 346ms/step - loss: 0.0028 - accuracy: 1.0000 - val_loss: 0.5956 - val_accuracy: 0.8600\n",
      "Epoch 95/100\n",
      "19/19 [==============================] - 7s 347ms/step - loss: 0.0026 - accuracy: 1.0000 - val_loss: 0.5211 - val_accuracy: 0.8900\n",
      "Epoch 96/100\n",
      "19/19 [==============================] - 7s 348ms/step - loss: 0.0015 - accuracy: 1.0000 - val_loss: 0.5071 - val_accuracy: 0.8900\n",
      "Epoch 97/100\n",
      "19/19 [==============================] - 7s 345ms/step - loss: 0.0024 - accuracy: 1.0000 - val_loss: 0.5352 - val_accuracy: 0.8900\n",
      "Epoch 98/100\n",
      "19/19 [==============================] - 7s 348ms/step - loss: 0.0024 - accuracy: 1.0000 - val_loss: 0.5809 - val_accuracy: 0.8700\n",
      "Epoch 99/100\n",
      "19/19 [==============================] - 7s 345ms/step - loss: 0.0026 - accuracy: 1.0000 - val_loss: 0.6194 - val_accuracy: 0.8600\n",
      "Epoch 100/100\n",
      "19/19 [==============================] - 7s 345ms/step - loss: 0.0016 - accuracy: 1.0000 - val_loss: 0.5472 - val_accuracy: 0.8900\n"
     ]
    }
   ],
   "source": [
    "r=model.fit_generator(\n",
    "    training_set,\n",
    "    validation_data=test_set,\n",
    "    epochs=100,\n",
    "    steps_per_epoch=len(training_set),\n",
    "    validation_steps=len(test_set)\n",
    ")"
   ]
  },
  {
   "cell_type": "code",
   "execution_count": 20,
   "metadata": {
    "id": "8D8-XpK5V48X"
   },
   "outputs": [],
   "source": [
    "import matplotlib.pyplot as plt"
   ]
  },
  {
   "cell_type": "code",
   "execution_count": 21,
   "metadata": {
    "colab": {
     "base_uri": "https://localhost:8080/",
     "height": 530
    },
    "id": "aVm2B74IYNnG",
    "outputId": "1836e91a-84e9-4d92-b026-ae7d6c767198"
   },
   "outputs": [
    {
     "data": {
      "image/png": "[encoded data removed]",
      "text/plain": [
       "<Figure size 432x288 with 1 Axes>"
      ]
     },
     "metadata": {
      "needs_background": "light",
      "tags": []
     },
     "output_type": "display_data"
    },
    {
     "data": {
      "image/png": "[encoded data removed]",
      "text/plain": [
       "<Figure size 432x288 with 1 Axes>"
      ]
     },
     "metadata": {
      "needs_background": "light",
      "tags": []
     },
     "output_type": "display_data"
    },
    {
     "data": {
      "text/plain": [
       "<Figure size 432x288 with 0 Axes>"
      ]
     },
     "metadata": {
      "tags": []
     },
     "output_type": "display_data"
    }
   ],
   "source": [
    "# plot the loss\n",
    "plt.plot(r.history['loss'], label='train loss')\n",
    "plt.plot(r.history['val_loss'], label='val loss')\n",
    "plt.legend()\n",
    "plt.show()\n",
    "plt.savefig('LossVal_loss')\n",
    "\n",
    "# plot the accuracy\n",
    "plt.plot(r.history['accuracy'], label='train acc')\n",
    "plt.plot(r.history['val_accuracy'], label='val acc')\n",
    "plt.legend()\n",
    "plt.show()\n",
    "plt.savefig('AccVal_acc')"
   ]
  },
  {
   "cell_type": "code",
   "execution_count": 22,
   "metadata": {
    "id": "22tj2uOzYPaq"
   },
   "outputs": [],
   "source": [
    "### Predictions\n",
    "import numpy as np\n",
    "from keras.preprocessing import image"
   ]
  },
  {
   "cell_type": "code",
   "execution_count": 23,
   "metadata": {
    "colab": {
     "base_uri": "https://localhost:8080/"
    },
    "id": "NXU1D0KVY70H",
    "outputId": "89b8cff4-38d2-4451-e34a-3114f212a89e"
   },
   "outputs": [
    {
     "name": "stdout",
     "output_type": "stream",
     "text": [
      "Prediction: The person have brain Tumor.\n"
     ]
    }
   ],
   "source": [
    "test_image = image.load_img('/content/drive/MyDrive/Datasets/Brain Tumor/brain_tumor_dataset/Test/Yes/Y15.jpg', target_size = (224, 224))\n",
    "test_image = image.img_to_array(test_image)\n",
    "test_image = np.expand_dims(test_image, axis = 0)\n",
    "result = model.predict(test_image)\n",
    "\n",
    "if result[0][0] == 1:\n",
    "  print(\"Prediction: The person dont have brain Tumor.\")\n",
    "else:\n",
    "  print(\"Prediction: The person have brain Tumor.\")"
   ]
  },
  {
   "cell_type": "code",
   "execution_count": 24,
   "metadata": {
    "colab": {
     "base_uri": "https://localhost:8080/"
    },
    "id": "HDdkrRmfZxNI",
    "outputId": "17f7496e-003a-4e50-bee3-db2ef65b4e6d"
   },
   "outputs": [
    {
     "name": "stdout",
     "output_type": "stream",
     "text": [
      "Prediction: The person dont have brain Tumor.\n"
     ]
    }
   ],
   "source": [
    "test_image = image.load_img('/content/drive/MyDrive/Datasets/Brain Tumor/brain_tumor_dataset/Test/No/No__0_6356.jpeg', target_size = (224, 224))\n",
    "test_image = image.img_to_array(test_image)\n",
    "test_image = np.expand_dims(test_image, axis = 0)\n",
    "result = model.predict(test_image)\n",
    "\n",
    "if result[0][0] == 1:\n",
    "  print(\"Prediction: The person dont have brain Tumor.\")\n",
    "else:\n",
    "  print(\"Prediction: The person have brain Tumor.\")"
   ]
  },
  {
   "cell_type": "code",
   "execution_count": 26,
   "metadata": {
    "id": "2kbv0Apgad6v"
   },
   "outputs": [],
   "source": [
    "model.save(\"/content/drive/MyDrive/Datasets/Brain Tumor/brain_tumor_dataset/Braintumour.h5\")"
   ]
  },
  {
   "cell_type": "code",
   "execution_count": null,
   "metadata": {
    "id": "RTV-AHSdi76r"
   },
   "outputs": [],
   "source": []
  }
 ],
 "metadata": {
  "accelerator": "GPU",
  "colab": {
   "collapsed_sections": [],
   "name": "Brain Tumor VGG 16.ipynb",
   "provenance": []
  },
  "kernelspec": {
   "display_name": "Python 3",
   "language": "python",
   "name": "python3"
  },
  "language_info": {
   "codemirror_mode": {
    "name": "ipython",
    "version": 3
   },
   "file_extension": ".py",
   "mimetype": "text/x-python",
   "name": "python",
   "nbconvert_exporter": "python",
   "pygments_lexer": "ipython3",
   "version": "3.8.5"
  }
 },
 "nbformat": 4,
 "nbformat_minor": 1
}
