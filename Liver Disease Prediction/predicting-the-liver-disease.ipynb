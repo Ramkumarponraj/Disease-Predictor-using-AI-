{
 "cells": [
  {
   "cell_type": "markdown",
   "metadata": {
    "papermill": {
     "duration": 0.033943,
     "end_time": "2020-09-30T14:35:51.672677",
     "exception": false,
     "start_time": "2020-09-30T14:35:51.638734",
     "status": "completed"
    },
    "tags": []
   },
   "source": [
    "# Indian Liver Patient Records\n",
    "Patients with Liver disease have been continuously increasing because of excessive consumption of alcohol, inhale of harmful gases, intake of contaminated food, pickles and drugs. This notebook can used to classify whether a person is liver patient or not based upon certain attributes in an effort to reduce burden on doctors. "
   ]
  },
  {
   "cell_type": "code",
   "execution_count": 1,
   "metadata": {
    "execution": {
     "iopub.execute_input": "2020-09-30T14:35:51.746563Z",
     "iopub.status.busy": "2020-09-30T14:35:51.745584Z",
     "iopub.status.idle": "2020-09-30T14:35:52.939318Z",
     "shell.execute_reply": "2020-09-30T14:35:52.938315Z"
    },
    "papermill": {
     "duration": 1.234167,
     "end_time": "2020-09-30T14:35:52.939487",
     "exception": false,
     "start_time": "2020-09-30T14:35:51.705320",
     "status": "completed"
    },
    "tags": []
   },
   "outputs": [],
   "source": [
    "# Import all required libraries for reading, analysing and visualizing data\n",
    "import numpy as np\n",
    "import pandas as pd\n",
    "import os\n",
    "import matplotlib.pyplot as plt\n",
    "import seaborn as sns"
   ]
  },
  {
   "cell_type": "markdown",
   "metadata": {
    "papermill": {
     "duration": 0.033004,
     "end_time": "2020-09-30T14:35:53.005182",
     "exception": false,
     "start_time": "2020-09-30T14:35:52.972178",
     "status": "completed"
    },
    "tags": []
   },
   "source": [
    "## Data Analysis"
   ]
  },
  {
   "cell_type": "code",
   "execution_count": 4,
   "metadata": {
    "_cell_guid": "79c7e3d0-c299-4dcb-8224-4455121ee9b0",
    "_uuid": "d629ff2d2480ee46fbb7e2d37f6b5fab8052498a",
    "execution": {
     "iopub.execute_input": "2020-09-30T14:35:53.163050Z",
     "iopub.status.busy": "2020-09-30T14:35:53.162247Z",
     "iopub.status.idle": "2020-09-30T14:35:53.179400Z",
     "shell.execute_reply": "2020-09-30T14:35:53.178521Z"
    },
    "papermill": {
     "duration": 0.058479,
     "end_time": "2020-09-30T14:35:53.179547",
     "exception": false,
     "start_time": "2020-09-30T14:35:53.121068",
     "status": "completed"
    },
    "tags": []
   },
   "outputs": [],
   "source": [
    "# read the data from the csv file\n",
    "records = pd.read_csv('indian_liver_patient.csv')"
   ]
  },
  {
   "cell_type": "code",
   "execution_count": 5,
   "metadata": {
    "execution": {
     "iopub.execute_input": "2020-09-30T14:35:53.267833Z",
     "iopub.status.busy": "2020-09-30T14:35:53.266681Z",
     "iopub.status.idle": "2020-09-30T14:35:53.282321Z",
     "shell.execute_reply": "2020-09-30T14:35:53.281551Z"
    },
    "papermill": {
     "duration": 0.069506,
     "end_time": "2020-09-30T14:35:53.282459",
     "exception": false,
     "start_time": "2020-09-30T14:35:53.212953",
     "status": "completed"
    },
    "tags": []
   },
   "outputs": [
    {
     "data": {
      "text/html": [
       "<div>\n",
       "<style scoped>\n",
       "    .dataframe tbody tr th:only-of-type {\n",
       "        vertical-align: middle;\n",
       "    }\n",
       "\n",
       "    .dataframe tbody tr th {\n",
       "        vertical-align: top;\n",
       "    }\n",
       "\n",
       "    .dataframe thead th {\n",
       "        text-align: right;\n",
       "    }\n",
       "</style>\n",
       "<table border=\"1\" class=\"dataframe\">\n",
       "  <thead>\n",
       "    <tr style=\"text-align: right;\">\n",
       "      <th></th>\n",
       "      <th>Age</th>\n",
       "      <th>Gender</th>\n",
       "      <th>Total_Bilirubin</th>\n",
       "      <th>Direct_Bilirubin</th>\n",
       "      <th>Alkaline_Phosphotase</th>\n",
       "      <th>Alamine_Aminotransferase</th>\n",
       "      <th>Aspartate_Aminotransferase</th>\n",
       "      <th>Total_Protiens</th>\n",
       "      <th>Albumin</th>\n",
       "      <th>Albumin_and_Globulin_Ratio</th>\n",
       "      <th>Dataset</th>\n",
       "    </tr>\n",
       "  </thead>\n",
       "  <tbody>\n",
       "    <tr>\n",
       "      <th>0</th>\n",
       "      <td>65</td>\n",
       "      <td>Female</td>\n",
       "      <td>0.7</td>\n",
       "      <td>0.1</td>\n",
       "      <td>187</td>\n",
       "      <td>16</td>\n",
       "      <td>18</td>\n",
       "      <td>6.8</td>\n",
       "      <td>3.3</td>\n",
       "      <td>0.90</td>\n",
       "      <td>1</td>\n",
       "    </tr>\n",
       "    <tr>\n",
       "      <th>1</th>\n",
       "      <td>62</td>\n",
       "      <td>Male</td>\n",
       "      <td>10.9</td>\n",
       "      <td>5.5</td>\n",
       "      <td>699</td>\n",
       "      <td>64</td>\n",
       "      <td>100</td>\n",
       "      <td>7.5</td>\n",
       "      <td>3.2</td>\n",
       "      <td>0.74</td>\n",
       "      <td>1</td>\n",
       "    </tr>\n",
       "    <tr>\n",
       "      <th>2</th>\n",
       "      <td>62</td>\n",
       "      <td>Male</td>\n",
       "      <td>7.3</td>\n",
       "      <td>4.1</td>\n",
       "      <td>490</td>\n",
       "      <td>60</td>\n",
       "      <td>68</td>\n",
       "      <td>7.0</td>\n",
       "      <td>3.3</td>\n",
       "      <td>0.89</td>\n",
       "      <td>1</td>\n",
       "    </tr>\n",
       "    <tr>\n",
       "      <th>3</th>\n",
       "      <td>58</td>\n",
       "      <td>Male</td>\n",
       "      <td>1.0</td>\n",
       "      <td>0.4</td>\n",
       "      <td>182</td>\n",
       "      <td>14</td>\n",
       "      <td>20</td>\n",
       "      <td>6.8</td>\n",
       "      <td>3.4</td>\n",
       "      <td>1.00</td>\n",
       "      <td>1</td>\n",
       "    </tr>\n",
       "    <tr>\n",
       "      <th>4</th>\n",
       "      <td>72</td>\n",
       "      <td>Male</td>\n",
       "      <td>3.9</td>\n",
       "      <td>2.0</td>\n",
       "      <td>195</td>\n",
       "      <td>27</td>\n",
       "      <td>59</td>\n",
       "      <td>7.3</td>\n",
       "      <td>2.4</td>\n",
       "      <td>0.40</td>\n",
       "      <td>1</td>\n",
       "    </tr>\n",
       "  </tbody>\n",
       "</table>\n",
       "</div>"
      ],
      "text/plain": [
       "   Age  Gender  Total_Bilirubin  Direct_Bilirubin  Alkaline_Phosphotase  \\\n",
       "0   65  Female              0.7               0.1                   187   \n",
       "1   62    Male             10.9               5.5                   699   \n",
       "2   62    Male              7.3               4.1                   490   \n",
       "3   58    Male              1.0               0.4                   182   \n",
       "4   72    Male              3.9               2.0                   195   \n",
       "\n",
       "   Alamine_Aminotransferase  Aspartate_Aminotransferase  Total_Protiens  \\\n",
       "0                        16                          18             6.8   \n",
       "1                        64                         100             7.5   \n",
       "2                        60                          68             7.0   \n",
       "3                        14                          20             6.8   \n",
       "4                        27                          59             7.3   \n",
       "\n",
       "   Albumin  Albumin_and_Globulin_Ratio  Dataset  \n",
       "0      3.3                        0.90        1  \n",
       "1      3.2                        0.74        1  \n",
       "2      3.3                        0.89        1  \n",
       "3      3.4                        1.00        1  \n",
       "4      2.4                        0.40        1  "
      ]
     },
     "metadata": {},
     "output_type": "display_data"
    }
   ],
   "source": [
    "display(records.head())"
   ]
  },
  {
   "cell_type": "code",
   "execution_count": 6,
   "metadata": {
    "execution": {
     "iopub.execute_input": "2020-09-30T14:35:53.359650Z",
     "iopub.status.busy": "2020-09-30T14:35:53.358524Z",
     "iopub.status.idle": "2020-09-30T14:35:53.363295Z",
     "shell.execute_reply": "2020-09-30T14:35:53.363825Z"
    },
    "papermill": {
     "duration": 0.04667,
     "end_time": "2020-09-30T14:35:53.364020",
     "exception": false,
     "start_time": "2020-09-30T14:35:53.317350",
     "status": "completed"
    },
    "tags": []
   },
   "outputs": [
    {
     "data": {
      "text/plain": [
       "(583, 11)"
      ]
     },
     "execution_count": 6,
     "metadata": {},
     "output_type": "execute_result"
    }
   ],
   "source": [
    "records.shape"
   ]
  },
  {
   "cell_type": "code",
   "execution_count": 7,
   "metadata": {
    "execution": {
     "iopub.execute_input": "2020-09-30T14:35:53.459091Z",
     "iopub.status.busy": "2020-09-30T14:35:53.458250Z",
     "iopub.status.idle": "2020-09-30T14:35:53.462744Z",
     "shell.execute_reply": "2020-09-30T14:35:53.462092Z"
    },
    "papermill": {
     "duration": 0.062324,
     "end_time": "2020-09-30T14:35:53.462891",
     "exception": false,
     "start_time": "2020-09-30T14:35:53.400567",
     "status": "completed"
    },
    "tags": []
   },
   "outputs": [
    {
     "name": "stdout",
     "output_type": "stream",
     "text": [
      "<class 'pandas.core.frame.DataFrame'>\n",
      "RangeIndex: 583 entries, 0 to 582\n",
      "Data columns (total 11 columns):\n",
      " #   Column                      Non-Null Count  Dtype  \n",
      "---  ------                      --------------  -----  \n",
      " 0   Age                         583 non-null    int64  \n",
      " 1   Gender                      583 non-null    object \n",
      " 2   Total_Bilirubin             583 non-null    float64\n",
      " 3   Direct_Bilirubin            583 non-null    float64\n",
      " 4   Alkaline_Phosphotase        583 non-null    int64  \n",
      " 5   Alamine_Aminotransferase    583 non-null    int64  \n",
      " 6   Aspartate_Aminotransferase  583 non-null    int64  \n",
      " 7   Total_Protiens              583 non-null    float64\n",
      " 8   Albumin                     583 non-null    float64\n",
      " 9   Albumin_and_Globulin_Ratio  579 non-null    float64\n",
      " 10  Dataset                     583 non-null    int64  \n",
      "dtypes: float64(5), int64(5), object(1)\n",
      "memory usage: 50.2+ KB\n"
     ]
    }
   ],
   "source": [
    "records.info()"
   ]
  },
  {
   "cell_type": "code",
   "execution_count": 8,
   "metadata": {
    "execution": {
     "iopub.execute_input": "2020-09-30T14:35:53.542294Z",
     "iopub.status.busy": "2020-09-30T14:35:53.541518Z",
     "iopub.status.idle": "2020-09-30T14:35:53.612605Z",
     "shell.execute_reply": "2020-09-30T14:35:53.611917Z"
    },
    "papermill": {
     "duration": 0.114143,
     "end_time": "2020-09-30T14:35:53.612752",
     "exception": false,
     "start_time": "2020-09-30T14:35:53.498609",
     "status": "completed"
    },
    "tags": []
   },
   "outputs": [
    {
     "data": {
      "text/html": [
       "<div>\n",
       "<style scoped>\n",
       "    .dataframe tbody tr th:only-of-type {\n",
       "        vertical-align: middle;\n",
       "    }\n",
       "\n",
       "    .dataframe tbody tr th {\n",
       "        vertical-align: top;\n",
       "    }\n",
       "\n",
       "    .dataframe thead th {\n",
       "        text-align: right;\n",
       "    }\n",
       "</style>\n",
       "<table border=\"1\" class=\"dataframe\">\n",
       "  <thead>\n",
       "    <tr style=\"text-align: right;\">\n",
       "      <th></th>\n",
       "      <th>Age</th>\n",
       "      <th>Gender</th>\n",
       "      <th>Total_Bilirubin</th>\n",
       "      <th>Direct_Bilirubin</th>\n",
       "      <th>Alkaline_Phosphotase</th>\n",
       "      <th>Alamine_Aminotransferase</th>\n",
       "      <th>Aspartate_Aminotransferase</th>\n",
       "      <th>Total_Protiens</th>\n",
       "      <th>Albumin</th>\n",
       "      <th>Albumin_and_Globulin_Ratio</th>\n",
       "      <th>Dataset</th>\n",
       "    </tr>\n",
       "  </thead>\n",
       "  <tbody>\n",
       "    <tr>\n",
       "      <th>count</th>\n",
       "      <td>583.000000</td>\n",
       "      <td>583</td>\n",
       "      <td>583.000000</td>\n",
       "      <td>583.000000</td>\n",
       "      <td>583.000000</td>\n",
       "      <td>583.000000</td>\n",
       "      <td>583.000000</td>\n",
       "      <td>583.000000</td>\n",
       "      <td>583.000000</td>\n",
       "      <td>579.000000</td>\n",
       "      <td>583.000000</td>\n",
       "    </tr>\n",
       "    <tr>\n",
       "      <th>unique</th>\n",
       "      <td>NaN</td>\n",
       "      <td>2</td>\n",
       "      <td>NaN</td>\n",
       "      <td>NaN</td>\n",
       "      <td>NaN</td>\n",
       "      <td>NaN</td>\n",
       "      <td>NaN</td>\n",
       "      <td>NaN</td>\n",
       "      <td>NaN</td>\n",
       "      <td>NaN</td>\n",
       "      <td>NaN</td>\n",
       "    </tr>\n",
       "    <tr>\n",
       "      <th>top</th>\n",
       "      <td>NaN</td>\n",
       "      <td>Male</td>\n",
       "      <td>NaN</td>\n",
       "      <td>NaN</td>\n",
       "      <td>NaN</td>\n",
       "      <td>NaN</td>\n",
       "      <td>NaN</td>\n",
       "      <td>NaN</td>\n",
       "      <td>NaN</td>\n",
       "      <td>NaN</td>\n",
       "      <td>NaN</td>\n",
       "    </tr>\n",
       "    <tr>\n",
       "      <th>freq</th>\n",
       "      <td>NaN</td>\n",
       "      <td>441</td>\n",
       "      <td>NaN</td>\n",
       "      <td>NaN</td>\n",
       "      <td>NaN</td>\n",
       "      <td>NaN</td>\n",
       "      <td>NaN</td>\n",
       "      <td>NaN</td>\n",
       "      <td>NaN</td>\n",
       "      <td>NaN</td>\n",
       "      <td>NaN</td>\n",
       "    </tr>\n",
       "    <tr>\n",
       "      <th>mean</th>\n",
       "      <td>44.746141</td>\n",
       "      <td>NaN</td>\n",
       "      <td>3.298799</td>\n",
       "      <td>1.486106</td>\n",
       "      <td>290.576329</td>\n",
       "      <td>80.713551</td>\n",
       "      <td>109.910806</td>\n",
       "      <td>6.483190</td>\n",
       "      <td>3.141852</td>\n",
       "      <td>0.947064</td>\n",
       "      <td>1.286449</td>\n",
       "    </tr>\n",
       "    <tr>\n",
       "      <th>std</th>\n",
       "      <td>16.189833</td>\n",
       "      <td>NaN</td>\n",
       "      <td>6.209522</td>\n",
       "      <td>2.808498</td>\n",
       "      <td>242.937989</td>\n",
       "      <td>182.620356</td>\n",
       "      <td>288.918529</td>\n",
       "      <td>1.085451</td>\n",
       "      <td>0.795519</td>\n",
       "      <td>0.319592</td>\n",
       "      <td>0.452490</td>\n",
       "    </tr>\n",
       "    <tr>\n",
       "      <th>min</th>\n",
       "      <td>4.000000</td>\n",
       "      <td>NaN</td>\n",
       "      <td>0.400000</td>\n",
       "      <td>0.100000</td>\n",
       "      <td>63.000000</td>\n",
       "      <td>10.000000</td>\n",
       "      <td>10.000000</td>\n",
       "      <td>2.700000</td>\n",
       "      <td>0.900000</td>\n",
       "      <td>0.300000</td>\n",
       "      <td>1.000000</td>\n",
       "    </tr>\n",
       "    <tr>\n",
       "      <th>25%</th>\n",
       "      <td>33.000000</td>\n",
       "      <td>NaN</td>\n",
       "      <td>0.800000</td>\n",
       "      <td>0.200000</td>\n",
       "      <td>175.500000</td>\n",
       "      <td>23.000000</td>\n",
       "      <td>25.000000</td>\n",
       "      <td>5.800000</td>\n",
       "      <td>2.600000</td>\n",
       "      <td>0.700000</td>\n",
       "      <td>1.000000</td>\n",
       "    </tr>\n",
       "    <tr>\n",
       "      <th>50%</th>\n",
       "      <td>45.000000</td>\n",
       "      <td>NaN</td>\n",
       "      <td>1.000000</td>\n",
       "      <td>0.300000</td>\n",
       "      <td>208.000000</td>\n",
       "      <td>35.000000</td>\n",
       "      <td>42.000000</td>\n",
       "      <td>6.600000</td>\n",
       "      <td>3.100000</td>\n",
       "      <td>0.930000</td>\n",
       "      <td>1.000000</td>\n",
       "    </tr>\n",
       "    <tr>\n",
       "      <th>75%</th>\n",
       "      <td>58.000000</td>\n",
       "      <td>NaN</td>\n",
       "      <td>2.600000</td>\n",
       "      <td>1.300000</td>\n",
       "      <td>298.000000</td>\n",
       "      <td>60.500000</td>\n",
       "      <td>87.000000</td>\n",
       "      <td>7.200000</td>\n",
       "      <td>3.800000</td>\n",
       "      <td>1.100000</td>\n",
       "      <td>2.000000</td>\n",
       "    </tr>\n",
       "    <tr>\n",
       "      <th>max</th>\n",
       "      <td>90.000000</td>\n",
       "      <td>NaN</td>\n",
       "      <td>75.000000</td>\n",
       "      <td>19.700000</td>\n",
       "      <td>2110.000000</td>\n",
       "      <td>2000.000000</td>\n",
       "      <td>4929.000000</td>\n",
       "      <td>9.600000</td>\n",
       "      <td>5.500000</td>\n",
       "      <td>2.800000</td>\n",
       "      <td>2.000000</td>\n",
       "    </tr>\n",
       "  </tbody>\n",
       "</table>\n",
       "</div>"
      ],
      "text/plain": [
       "               Age Gender  Total_Bilirubin  Direct_Bilirubin  \\\n",
       "count   583.000000    583       583.000000        583.000000   \n",
       "unique         NaN      2              NaN               NaN   \n",
       "top            NaN   Male              NaN               NaN   \n",
       "freq           NaN    441              NaN               NaN   \n",
       "mean     44.746141    NaN         3.298799          1.486106   \n",
       "std      16.189833    NaN         6.209522          2.808498   \n",
       "min       4.000000    NaN         0.400000          0.100000   \n",
       "25%      33.000000    NaN         0.800000          0.200000   \n",
       "50%      45.000000    NaN         1.000000          0.300000   \n",
       "75%      58.000000    NaN         2.600000          1.300000   \n",
       "max      90.000000    NaN        75.000000         19.700000   \n",
       "\n",
       "        Alkaline_Phosphotase  Alamine_Aminotransferase  \\\n",
       "count             583.000000                583.000000   \n",
       "unique                   NaN                       NaN   \n",
       "top                      NaN                       NaN   \n",
       "freq                     NaN                       NaN   \n",
       "mean              290.576329                 80.713551   \n",
       "std               242.937989                182.620356   \n",
       "min                63.000000                 10.000000   \n",
       "25%               175.500000                 23.000000   \n",
       "50%               208.000000                 35.000000   \n",
       "75%               298.000000                 60.500000   \n",
       "max              2110.000000               2000.000000   \n",
       "\n",
       "        Aspartate_Aminotransferase  Total_Protiens     Albumin  \\\n",
       "count                   583.000000      583.000000  583.000000   \n",
       "unique                         NaN             NaN         NaN   \n",
       "top                            NaN             NaN         NaN   \n",
       "freq                           NaN             NaN         NaN   \n",
       "mean                    109.910806        6.483190    3.141852   \n",
       "std                     288.918529        1.085451    0.795519   \n",
       "min                      10.000000        2.700000    0.900000   \n",
       "25%                      25.000000        5.800000    2.600000   \n",
       "50%                      42.000000        6.600000    3.100000   \n",
       "75%                      87.000000        7.200000    3.800000   \n",
       "max                    4929.000000        9.600000    5.500000   \n",
       "\n",
       "        Albumin_and_Globulin_Ratio     Dataset  \n",
       "count                   579.000000  583.000000  \n",
       "unique                         NaN         NaN  \n",
       "top                            NaN         NaN  \n",
       "freq                           NaN         NaN  \n",
       "mean                      0.947064    1.286449  \n",
       "std                       0.319592    0.452490  \n",
       "min                       0.300000    1.000000  \n",
       "25%                       0.700000    1.000000  \n",
       "50%                       0.930000    1.000000  \n",
       "75%                       1.100000    2.000000  \n",
       "max                       2.800000    2.000000  "
      ]
     },
     "execution_count": 8,
     "metadata": {},
     "output_type": "execute_result"
    }
   ],
   "source": [
    "# describe gives statistical information about NUMERICAL columns in the dataset\n",
    "records.describe(include = 'all')"
   ]
  },
  {
   "cell_type": "code",
   "execution_count": 9,
   "metadata": {
    "execution": {
     "iopub.execute_input": "2020-09-30T14:35:53.696010Z",
     "iopub.status.busy": "2020-09-30T14:35:53.695096Z",
     "iopub.status.idle": "2020-09-30T14:35:53.699193Z",
     "shell.execute_reply": "2020-09-30T14:35:53.699784Z"
    },
    "papermill": {
     "duration": 0.050425,
     "end_time": "2020-09-30T14:35:53.699969",
     "exception": false,
     "start_time": "2020-09-30T14:35:53.649544",
     "status": "completed"
    },
    "tags": []
   },
   "outputs": [
    {
     "data": {
      "text/plain": [
       "Age                           0\n",
       "Gender                        0\n",
       "Total_Bilirubin               0\n",
       "Direct_Bilirubin              0\n",
       "Alkaline_Phosphotase          0\n",
       "Alamine_Aminotransferase      0\n",
       "Aspartate_Aminotransferase    0\n",
       "Total_Protiens                0\n",
       "Albumin                       0\n",
       "Albumin_and_Globulin_Ratio    4\n",
       "Dataset                       0\n",
       "dtype: int64"
      ]
     },
     "execution_count": 9,
     "metadata": {},
     "output_type": "execute_result"
    }
   ],
   "source": [
    "# check if any of the columns has null values\n",
    "records.isnull().sum()"
   ]
  },
  {
   "cell_type": "markdown",
   "metadata": {
    "papermill": {
     "duration": 0.036514,
     "end_time": "2020-09-30T14:35:53.773744",
     "exception": false,
     "start_time": "2020-09-30T14:35:53.737230",
     "status": "completed"
    },
    "tags": []
   },
   "source": [
    "## Data corrections/improvements"
   ]
  },
  {
   "cell_type": "code",
   "execution_count": 10,
   "metadata": {
    "execution": {
     "iopub.execute_input": "2020-09-30T14:35:53.856047Z",
     "iopub.status.busy": "2020-09-30T14:35:53.855054Z",
     "iopub.status.idle": "2020-09-30T14:35:53.858474Z",
     "shell.execute_reply": "2020-09-30T14:35:53.857699Z"
    },
    "papermill": {
     "duration": 0.04721,
     "end_time": "2020-09-30T14:35:53.858614",
     "exception": false,
     "start_time": "2020-09-30T14:35:53.811404",
     "status": "completed"
    },
    "tags": []
   },
   "outputs": [],
   "source": [
    "# replace 2 in 'Dataset' column with 0\n",
    "records['Dataset'] = records['Dataset'].replace(2, 0)"
   ]
  },
  {
   "cell_type": "code",
   "execution_count": 11,
   "metadata": {
    "execution": {
     "iopub.execute_input": "2020-09-30T14:35:53.941618Z",
     "iopub.status.busy": "2020-09-30T14:35:53.940817Z",
     "iopub.status.idle": "2020-09-30T14:35:53.943912Z",
     "shell.execute_reply": "2020-09-30T14:35:53.943164Z"
    },
    "papermill": {
     "duration": 0.047991,
     "end_time": "2020-09-30T14:35:53.944063",
     "exception": false,
     "start_time": "2020-09-30T14:35:53.896072",
     "status": "completed"
    },
    "tags": []
   },
   "outputs": [],
   "source": [
    "# make the gender column into numerical format\n",
    "records['Gender'] = records['Gender'].apply(lambda x: 1 if x == 'Male' else 0)"
   ]
  },
  {
   "cell_type": "code",
   "execution_count": 12,
   "metadata": {
    "execution": {
     "iopub.execute_input": "2020-09-30T14:35:54.033213Z",
     "iopub.status.busy": "2020-09-30T14:35:54.032060Z",
     "iopub.status.idle": "2020-09-30T14:35:54.035683Z",
     "shell.execute_reply": "2020-09-30T14:35:54.034912Z"
    },
    "papermill": {
     "duration": 0.05357,
     "end_time": "2020-09-30T14:35:54.035827",
     "exception": false,
     "start_time": "2020-09-30T14:35:53.982257",
     "status": "completed"
    },
    "tags": []
   },
   "outputs": [],
   "source": [
    "# 'Albumin_and_Globulin_Ratio' column contains 4 null values, so fill these values with the mean of the column values\n",
    "records[records['Albumin_and_Globulin_Ratio'].isnull()]\n",
    "records[\"Albumin_and_Globulin_Ratio\"] = records.Albumin_and_Globulin_Ratio.fillna(records['Albumin_and_Globulin_Ratio'].mean())"
   ]
  },
  {
   "cell_type": "markdown",
   "metadata": {
    "papermill": {
     "duration": 0.038417,
     "end_time": "2020-09-30T14:35:54.111960",
     "exception": false,
     "start_time": "2020-09-30T14:35:54.073543",
     "status": "completed"
    },
    "tags": []
   },
   "source": [
    "## Data Visualization"
   ]
  },
  {
   "cell_type": "code",
   "execution_count": 13,
   "metadata": {
    "execution": {
     "iopub.execute_input": "2020-09-30T14:35:54.199818Z",
     "iopub.status.busy": "2020-09-30T14:35:54.199007Z",
     "iopub.status.idle": "2020-09-30T14:35:54.423170Z",
     "shell.execute_reply": "2020-09-30T14:35:54.422386Z"
    },
    "papermill": {
     "duration": 0.2738,
     "end_time": "2020-09-30T14:35:54.423321",
     "exception": false,
     "start_time": "2020-09-30T14:35:54.149521",
     "status": "completed"
    },
    "tags": []
   },
   "outputs": [
    {
     "name": "stdout",
     "output_type": "stream",
     "text": [
      "Number of people diagonised with liver disease:  416\n",
      "Number of people not diagonised with liver disease:  167\n"
     ]
    },
    {
     "data": {
      "image/png": "[encoded data removed]",
      "text/plain": [
       "<Figure size 432x288 with 1 Axes>"
      ]
     },
     "metadata": {
      "needs_background": "light"
     },
     "output_type": "display_data"
    }
   ],
   "source": [
    "# visualize number of patients diagonised with liver diesease\n",
    "sns.countplot(data = records, x = 'Dataset');\n",
    "\n",
    "p1, p2 = records['Dataset'].value_counts()\n",
    "print('Number of people diagonised with liver disease: ', p1)\n",
    "print('Number of people not diagonised with liver disease: ', p2)"
   ]
  },
  {
   "cell_type": "code",
   "execution_count": 14,
   "metadata": {
    "execution": {
     "iopub.execute_input": "2020-09-30T14:35:54.513984Z",
     "iopub.status.busy": "2020-09-30T14:35:54.511638Z",
     "iopub.status.idle": "2020-09-30T14:35:54.819351Z",
     "shell.execute_reply": "2020-09-30T14:35:54.818511Z"
    },
    "papermill": {
     "duration": 0.353992,
     "end_time": "2020-09-30T14:35:54.819502",
     "exception": false,
     "start_time": "2020-09-30T14:35:54.465510",
     "status": "completed"
    },
    "tags": []
   },
   "outputs": [
    {
     "data": {
      "image/png": "[encoded data removed]",
      "text/plain": [
       "<Figure size 407.125x360 with 1 Axes>"
      ]
     },
     "metadata": {
      "needs_background": "light"
     },
     "output_type": "display_data"
    }
   ],
   "source": [
    "sns.catplot(data = records, x = 'Gender', y = 'Age', hue = 'Dataset', jitter = 0.4);"
   ]
  },
  {
   "cell_type": "markdown",
   "metadata": {
    "papermill": {
     "duration": 0.040632,
     "end_time": "2020-09-30T14:35:54.901622",
     "exception": false,
     "start_time": "2020-09-30T14:35:54.860990",
     "status": "completed"
    },
    "tags": []
   },
   "source": [
    "### Checking the impact of Total_Bilirubin on Dataset"
   ]
  },
  {
   "cell_type": "code",
   "execution_count": 15,
   "metadata": {
    "execution": {
     "iopub.execute_input": "2020-09-30T14:35:55.002422Z",
     "iopub.status.busy": "2020-09-30T14:35:54.994610Z",
     "iopub.status.idle": "2020-09-30T14:35:55.211900Z",
     "shell.execute_reply": "2020-09-30T14:35:55.211254Z"
    },
    "papermill": {
     "duration": 0.269315,
     "end_time": "2020-09-30T14:35:55.212049",
     "exception": false,
     "start_time": "2020-09-30T14:35:54.942734",
     "status": "completed"
    },
    "tags": []
   },
   "outputs": [
    {
     "data": {
      "image/png": "[encoded data removed]",
      "text/plain": [
       "<Figure size 360x360 with 1 Axes>"
      ]
     },
     "metadata": {
      "needs_background": "light"
     },
     "output_type": "display_data"
    }
   ],
   "source": [
    "sns.catplot(x='Dataset', y='Total_Bilirubin', data=records, kind = 'boxen', color = 'green');"
   ]
  },
  {
   "cell_type": "markdown",
   "metadata": {
    "papermill": {
     "duration": 0.041888,
     "end_time": "2020-09-30T14:35:55.296691",
     "exception": false,
     "start_time": "2020-09-30T14:35:55.254803",
     "status": "completed"
    },
    "tags": []
   },
   "source": [
    "### Checking the impact of Direct_Bilirubin on Dataset"
   ]
  },
  {
   "cell_type": "code",
   "execution_count": 16,
   "metadata": {
    "execution": {
     "iopub.execute_input": "2020-09-30T14:35:55.390056Z",
     "iopub.status.busy": "2020-09-30T14:35:55.389309Z",
     "iopub.status.idle": "2020-09-30T14:35:55.598456Z",
     "shell.execute_reply": "2020-09-30T14:35:55.597750Z"
    },
    "papermill": {
     "duration": 0.259753,
     "end_time": "2020-09-30T14:35:55.598601",
     "exception": false,
     "start_time": "2020-09-30T14:35:55.338848",
     "status": "completed"
    },
    "tags": []
   },
   "outputs": [
    {
     "data": {
      "image/png": "[encoded data removed]",
      "text/plain": [
       "<Figure size 360x360 with 1 Axes>"
      ]
     },
     "metadata": {
      "needs_background": "light"
     },
     "output_type": "display_data"
    }
   ],
   "source": [
    "sns.catplot(x='Dataset', y='Direct_Bilirubin', data=records, kind = 'boxen', color = 'blue');"
   ]
  },
  {
   "cell_type": "markdown",
   "metadata": {
    "papermill": {
     "duration": 0.042489,
     "end_time": "2020-09-30T14:35:55.684443",
     "exception": false,
     "start_time": "2020-09-30T14:35:55.641954",
     "status": "completed"
    },
    "tags": []
   },
   "source": [
    "### Checking the impact of Alkaline_Phosphotase on Dataset"
   ]
  },
  {
   "cell_type": "code",
   "execution_count": 17,
   "metadata": {
    "execution": {
     "iopub.execute_input": "2020-09-30T14:35:55.786388Z",
     "iopub.status.busy": "2020-09-30T14:35:55.778853Z",
     "iopub.status.idle": "2020-09-30T14:35:55.969152Z",
     "shell.execute_reply": "2020-09-30T14:35:55.969734Z"
    },
    "papermill": {
     "duration": 0.242743,
     "end_time": "2020-09-30T14:35:55.969936",
     "exception": false,
     "start_time": "2020-09-30T14:35:55.727193",
     "status": "completed"
    },
    "tags": []
   },
   "outputs": [
    {
     "data": {
      "image/png": "[encoded data removed]",
      "text/plain": [
       "<Figure size 360x360 with 1 Axes>"
      ]
     },
     "metadata": {
      "needs_background": "light"
     },
     "output_type": "display_data"
    }
   ],
   "source": [
    "sns.catplot(x='Dataset', y='Alkaline_Phosphotase', data=records, kind = 'boxen', color = 'red');"
   ]
  },
  {
   "cell_type": "markdown",
   "metadata": {
    "papermill": {
     "duration": 0.043508,
     "end_time": "2020-09-30T14:35:56.057558",
     "exception": false,
     "start_time": "2020-09-30T14:35:56.014050",
     "status": "completed"
    },
    "tags": []
   },
   "source": [
    "### Checking the impact of Alamine_Aminotransferase on Dataset"
   ]
  },
  {
   "cell_type": "code",
   "execution_count": 18,
   "metadata": {
    "execution": {
     "iopub.execute_input": "2020-09-30T14:35:56.289342Z",
     "iopub.status.busy": "2020-09-30T14:35:56.160644Z",
     "iopub.status.idle": "2020-09-30T14:35:56.486869Z",
     "shell.execute_reply": "2020-09-30T14:35:56.486079Z"
    },
    "papermill": {
     "duration": 0.385378,
     "end_time": "2020-09-30T14:35:56.487007",
     "exception": false,
     "start_time": "2020-09-30T14:35:56.101629",
     "status": "completed"
    },
    "tags": []
   },
   "outputs": [
    {
     "data": {
      "image/png": "[encoded data removed]",
      "text/plain": [
       "<Figure size 360x360 with 1 Axes>"
      ]
     },
     "metadata": {
      "needs_background": "light"
     },
     "output_type": "display_data"
    }
   ],
   "source": [
    "sns.catplot(x='Dataset', y='Alamine_Aminotransferase', data=records, kind = 'boxen', color = 'orange');"
   ]
  },
  {
   "cell_type": "markdown",
   "metadata": {
    "papermill": {
     "duration": 0.045191,
     "end_time": "2020-09-30T14:35:56.577508",
     "exception": false,
     "start_time": "2020-09-30T14:35:56.532317",
     "status": "completed"
    },
    "tags": []
   },
   "source": [
    "### Checking the impact of Aspartate_Aminotransferase on Dataset"
   ]
  },
  {
   "cell_type": "code",
   "execution_count": 19,
   "metadata": {
    "execution": {
     "iopub.execute_input": "2020-09-30T14:35:56.678488Z",
     "iopub.status.busy": "2020-09-30T14:35:56.677610Z",
     "iopub.status.idle": "2020-09-30T14:35:56.876677Z",
     "shell.execute_reply": "2020-09-30T14:35:56.875881Z"
    },
    "papermill": {
     "duration": 0.253974,
     "end_time": "2020-09-30T14:35:56.876827",
     "exception": false,
     "start_time": "2020-09-30T14:35:56.622853",
     "status": "completed"
    },
    "tags": []
   },
   "outputs": [
    {
     "data": {
      "image/png": "[encoded data removed]",
      "text/plain": [
       "<Figure size 360x360 with 1 Axes>"
      ]
     },
     "metadata": {
      "needs_background": "light"
     },
     "output_type": "display_data"
    }
   ],
   "source": [
    "sns.catplot(x='Dataset', y='Aspartate_Aminotransferase', data=records, kind = 'boxen', color = 'brown');"
   ]
  },
  {
   "cell_type": "markdown",
   "metadata": {
    "papermill": {
     "duration": 0.046149,
     "end_time": "2020-09-30T14:35:56.969887",
     "exception": false,
     "start_time": "2020-09-30T14:35:56.923738",
     "status": "completed"
    },
    "tags": []
   },
   "source": [
    "### Checking the impact of Total_Protiens on Dataset"
   ]
  },
  {
   "cell_type": "code",
   "execution_count": 20,
   "metadata": {
    "execution": {
     "iopub.execute_input": "2020-09-30T14:35:57.078309Z",
     "iopub.status.busy": "2020-09-30T14:35:57.072596Z",
     "iopub.status.idle": "2020-09-30T14:35:57.303558Z",
     "shell.execute_reply": "2020-09-30T14:35:57.304499Z"
    },
    "papermill": {
     "duration": 0.287333,
     "end_time": "2020-09-30T14:35:57.304736",
     "exception": false,
     "start_time": "2020-09-30T14:35:57.017403",
     "status": "completed"
    },
    "tags": []
   },
   "outputs": [
    {
     "data": {
      "image/png": "[encoded data removed]",
      "text/plain": [
       "<Figure size 360x360 with 1 Axes>"
      ]
     },
     "metadata": {
      "needs_background": "light"
     },
     "output_type": "display_data"
    }
   ],
   "source": [
    "sns.catplot(x='Dataset', y='Total_Protiens', data=records, kind = 'boxen', color = 'purple');"
   ]
  },
  {
   "cell_type": "markdown",
   "metadata": {
    "papermill": {
     "duration": 0.059966,
     "end_time": "2020-09-30T14:35:57.431004",
     "exception": false,
     "start_time": "2020-09-30T14:35:57.371038",
     "status": "completed"
    },
    "tags": []
   },
   "source": [
    "### Checking the impact of Albumin on Dataset"
   ]
  },
  {
   "cell_type": "code",
   "execution_count": 21,
   "metadata": {
    "execution": {
     "iopub.execute_input": "2020-09-30T14:35:57.542321Z",
     "iopub.status.busy": "2020-09-30T14:35:57.540710Z",
     "iopub.status.idle": "2020-09-30T14:35:57.740233Z",
     "shell.execute_reply": "2020-09-30T14:35:57.739458Z"
    },
    "papermill": {
     "duration": 0.262593,
     "end_time": "2020-09-30T14:35:57.740383",
     "exception": false,
     "start_time": "2020-09-30T14:35:57.477790",
     "status": "completed"
    },
    "tags": []
   },
   "outputs": [
    {
     "data": {
      "image/png": "[encoded data removed]",
      "text/plain": [
       "<Figure size 360x360 with 1 Axes>"
      ]
     },
     "metadata": {
      "needs_background": "light"
     },
     "output_type": "display_data"
    }
   ],
   "source": [
    "sns.catplot(x='Dataset', y='Albumin', data=records, kind = 'boxen', color = 'violet');"
   ]
  },
  {
   "cell_type": "markdown",
   "metadata": {
    "papermill": {
     "duration": 0.048078,
     "end_time": "2020-09-30T14:35:57.837075",
     "exception": false,
     "start_time": "2020-09-30T14:35:57.788997",
     "status": "completed"
    },
    "tags": []
   },
   "source": [
    "### Checking the impact of Albumin_and_Globulin_Ratio on Dataset"
   ]
  },
  {
   "cell_type": "code",
   "execution_count": 22,
   "metadata": {
    "execution": {
     "iopub.execute_input": "2020-09-30T14:35:57.951286Z",
     "iopub.status.busy": "2020-09-30T14:35:57.948374Z",
     "iopub.status.idle": "2020-09-30T14:35:58.143386Z",
     "shell.execute_reply": "2020-09-30T14:35:58.143989Z"
    },
    "papermill": {
     "duration": 0.259105,
     "end_time": "2020-09-30T14:35:58.144196",
     "exception": false,
     "start_time": "2020-09-30T14:35:57.885091",
     "status": "completed"
    },
    "tags": []
   },
   "outputs": [
    {
     "data": {
      "image/png": "[encoded data removed]",
      "text/plain": [
       "<Figure size 360x360 with 1 Axes>"
      ]
     },
     "metadata": {
      "needs_background": "light"
     },
     "output_type": "display_data"
    }
   ],
   "source": [
    "sns.catplot(x='Dataset', y='Albumin_and_Globulin_Ratio', data=records, kind = 'boxen', color = 'black');"
   ]
  },
  {
   "cell_type": "markdown",
   "metadata": {
    "papermill": {
     "duration": 0.048424,
     "end_time": "2020-09-30T14:35:58.242768",
     "exception": false,
     "start_time": "2020-09-30T14:35:58.194344",
     "status": "completed"
    },
    "tags": []
   },
   "source": [
    "### Heatmap of correlation between features"
   ]
  },
  {
   "cell_type": "code",
   "execution_count": 23,
   "metadata": {
    "execution": {
     "iopub.execute_input": "2020-09-30T14:35:58.354909Z",
     "iopub.status.busy": "2020-09-30T14:35:58.354001Z",
     "iopub.status.idle": "2020-09-30T14:35:59.121601Z",
     "shell.execute_reply": "2020-09-30T14:35:59.120871Z"
    },
    "papermill": {
     "duration": 0.829572,
     "end_time": "2020-09-30T14:35:59.121740",
     "exception": false,
     "start_time": "2020-09-30T14:35:58.292168",
     "status": "completed"
    },
    "tags": []
   },
   "outputs": [
    {
     "data": {
      "image/png": "[encoded data removed]",
      "text/plain": [
       "<Figure size 864x720 with 2 Axes>"
      ]
     },
     "metadata": {
      "needs_background": "light"
     },
     "output_type": "display_data"
    }
   ],
   "source": [
    "plt.figure(figsize=(12, 10))\n",
    "plt.title('Correlation between features');\n",
    "sns.heatmap(records.corr(), annot = True, fmt = '0.2f');"
   ]
  },
  {
   "cell_type": "markdown",
   "metadata": {
    "papermill": {
     "duration": 0.051399,
     "end_time": "2020-09-30T14:35:59.226294",
     "exception": false,
     "start_time": "2020-09-30T14:35:59.174895",
     "status": "completed"
    },
    "tags": []
   },
   "source": [
    "## Machine Learning"
   ]
  },
  {
   "cell_type": "code",
   "execution_count": 24,
   "metadata": {
    "execution": {
     "iopub.execute_input": "2020-09-30T14:35:59.337837Z",
     "iopub.status.busy": "2020-09-30T14:35:59.336822Z",
     "iopub.status.idle": "2020-09-30T14:35:59.697628Z",
     "shell.execute_reply": "2020-09-30T14:35:59.696816Z"
    },
    "papermill": {
     "duration": 0.41991,
     "end_time": "2020-09-30T14:35:59.697783",
     "exception": false,
     "start_time": "2020-09-30T14:35:59.277873",
     "status": "completed"
    },
    "tags": []
   },
   "outputs": [],
   "source": [
    "# import the required modules\n",
    "from sklearn.preprocessing import MinMaxScaler\n",
    "from sklearn.model_selection import train_test_split\n",
    "from sklearn.linear_model import LogisticRegression\n",
    "from sklearn.ensemble import RandomForestClassifier\n",
    "from sklearn import svm\n",
    "from sklearn.metrics import accuracy_score, confusion_matrix, classification_report"
   ]
  },
  {
   "cell_type": "code",
   "execution_count": 25,
   "metadata": {
    "execution": {
     "iopub.execute_input": "2020-09-30T14:35:59.811852Z",
     "iopub.status.busy": "2020-09-30T14:35:59.810706Z",
     "iopub.status.idle": "2020-09-30T14:35:59.814752Z",
     "shell.execute_reply": "2020-09-30T14:35:59.813970Z"
    },
    "papermill": {
     "duration": 0.064892,
     "end_time": "2020-09-30T14:35:59.814889",
     "exception": false,
     "start_time": "2020-09-30T14:35:59.749997",
     "status": "completed"
    },
    "tags": []
   },
   "outputs": [],
   "source": [
    "data = records.values\n",
    "X = data[:, :-1]\n",
    "Y = data[:, -1]"
   ]
  },
  {
   "cell_type": "markdown",
   "metadata": {
    "papermill": {
     "duration": 0.051953,
     "end_time": "2020-09-30T14:36:00.139661",
     "exception": false,
     "start_time": "2020-09-30T14:36:00.087708",
     "status": "completed"
    },
    "tags": []
   },
   "source": [
    "### Get the training and test data using train_test_split"
   ]
  },
  {
   "cell_type": "code",
   "execution_count": 26,
   "metadata": {
    "execution": {
     "iopub.execute_input": "2020-09-30T14:36:00.256395Z",
     "iopub.status.busy": "2020-09-30T14:36:00.254931Z",
     "iopub.status.idle": "2020-09-30T14:36:00.263393Z",
     "shell.execute_reply": "2020-09-30T14:36:00.262653Z"
    },
    "papermill": {
     "duration": 0.070652,
     "end_time": "2020-09-30T14:36:00.263539",
     "exception": false,
     "start_time": "2020-09-30T14:36:00.192887",
     "status": "completed"
    },
    "tags": []
   },
   "outputs": [
    {
     "name": "stdout",
     "output_type": "stream",
     "text": [
      "X_train shape:(408, 10)\n",
      "Y_train shape:(408, 1)\n",
      "X_test shape:(175, 10)\n",
      "Y_test shape:(175, 1)\n"
     ]
    }
   ],
   "source": [
    "(X_train, X_test, Y_train, Y_test) = train_test_split(X, Y, test_size=0.3, random_state = 123)\n",
    "Y_train = Y_train.reshape(408, 1)\n",
    "Y_test = Y_test.reshape(175, 1)\n",
    "print(\"X_train shape:\" + str(X_train.shape))\n",
    "print(\"Y_train shape:\" + str(Y_train.shape))\n",
    "print(\"X_test shape:\" + str(X_test.shape))\n",
    "print(\"Y_test shape:\" + str(Y_test.shape))"
   ]
  },
  {
   "cell_type": "markdown",
   "metadata": {
    "papermill": {
     "duration": 0.052631,
     "end_time": "2020-09-30T14:36:00.369463",
     "exception": false,
     "start_time": "2020-09-30T14:36:00.316832",
     "status": "completed"
    },
    "tags": []
   },
   "source": [
    "### 1. Using Logistic Regression"
   ]
  },
  {
   "cell_type": "code",
   "execution_count": 27,
   "metadata": {
    "execution": {
     "iopub.execute_input": "2020-09-30T14:36:00.487204Z",
     "iopub.status.busy": "2020-09-30T14:36:00.486374Z",
     "iopub.status.idle": "2020-09-30T14:36:00.526437Z",
     "shell.execute_reply": "2020-09-30T14:36:00.525615Z"
    },
    "papermill": {
     "duration": 0.102935,
     "end_time": "2020-09-30T14:36:00.526610",
     "exception": false,
     "start_time": "2020-09-30T14:36:00.423675",
     "status": "completed"
    },
    "tags": []
   },
   "outputs": [
    {
     "name": "stderr",
     "output_type": "stream",
     "text": [
      "C:\\Users\\Dell\\anaconda3\\lib\\site-packages\\sklearn\\utils\\validation.py:63: DataConversionWarning: A column-vector y was passed when a 1d array was expected. Please change the shape of y to (n_samples, ), for example using ravel().\n",
      "  return f(*args, **kwargs)\n"
     ]
    },
    {
     "name": "stdout",
     "output_type": "stream",
     "text": [
      "Logistic Regression train score:  73.04\n",
      "Logistic Regression test score:  72.0\n",
      "Classification Report: \n",
      "               precision    recall  f1-score   support\n",
      "\n",
      "         0.0       0.50      0.18      0.27        49\n",
      "         1.0       0.75      0.93      0.83       126\n",
      "\n",
      "    accuracy                           0.72       175\n",
      "   macro avg       0.62      0.56      0.55       175\n",
      "weighted avg       0.68      0.72      0.67       175\n",
      "\n",
      "Confusion Matrix:\n",
      " [[  9  40]\n",
      " [  9 117]]\n"
     ]
    },
    {
     "name": "stderr",
     "output_type": "stream",
     "text": [
      "C:\\Users\\Dell\\anaconda3\\lib\\site-packages\\sklearn\\linear_model\\_logistic.py:763: ConvergenceWarning: lbfgs failed to converge (status=1):\n",
      "STOP: TOTAL NO. of ITERATIONS REACHED LIMIT.\n",
      "\n",
      "Increase the number of iterations (max_iter) or scale the data as shown in:\n",
      "    https://scikit-learn.org/stable/modules/preprocessing.html\n",
      "Please also refer to the documentation for alternative solver options:\n",
      "    https://scikit-learn.org/stable/modules/linear_model.html#logistic-regression\n",
      "  n_iter_i = _check_optimize_result(\n"
     ]
    }
   ],
   "source": [
    "logreg = LogisticRegression()\n",
    "logreg.fit(X_train, Y_train)\n",
    "\n",
    "# train and test scores\n",
    "lr_train_score = round(logreg.score(X_train, Y_train) * 100, 2)\n",
    "lr_test_score = round(logreg.score(X_test, Y_test) * 100, 2)\n",
    "# predicted output\n",
    "Y_pred_lr = logreg.predict(X_test)\n",
    "\n",
    "print('Logistic Regression train score: ', lr_train_score)\n",
    "print('Logistic Regression test score: ', lr_test_score)\n",
    "print('Classification Report: \\n', classification_report(Y_test, Y_pred_lr))\n",
    "print('Confusion Matrix:\\n', confusion_matrix(Y_test, Y_pred_lr))"
   ]
  },
  {
   "cell_type": "markdown",
   "metadata": {
    "papermill": {
     "duration": 0.054226,
     "end_time": "2020-09-30T14:36:00.635241",
     "exception": false,
     "start_time": "2020-09-30T14:36:00.581015",
     "status": "completed"
    },
    "tags": []
   },
   "source": [
    "### 2. Using Random Forest Classifier"
   ]
  },
  {
   "cell_type": "code",
   "execution_count": 28,
   "metadata": {
    "execution": {
     "iopub.execute_input": "2020-09-30T14:36:00.769290Z",
     "iopub.status.busy": "2020-09-30T14:36:00.758980Z",
     "iopub.status.idle": "2020-09-30T14:36:01.075605Z",
     "shell.execute_reply": "2020-09-30T14:36:01.074722Z"
    },
    "papermill": {
     "duration": 0.38613,
     "end_time": "2020-09-30T14:36:01.075803",
     "exception": false,
     "start_time": "2020-09-30T14:36:00.689673",
     "status": "completed"
    },
    "tags": []
   },
   "outputs": [
    {
     "name": "stderr",
     "output_type": "stream",
     "text": [
      "<ipython-input-28-22d19489822b>:2: DataConversionWarning: A column-vector y was passed when a 1d array was expected. Please change the shape of y to (n_samples,), for example using ravel().\n",
      "  rf_cl.fit(X_train, Y_train)\n"
     ]
    },
    {
     "name": "stdout",
     "output_type": "stream",
     "text": [
      "Random Forest train score:  100.0\n",
      "Random Forest test score:  72.57\n",
      "Classification Report: \n",
      "               precision    recall  f1-score   support\n",
      "\n",
      "         0.0       0.51      0.37      0.43        49\n",
      "         1.0       0.78      0.87      0.82       126\n",
      "\n",
      "    accuracy                           0.73       175\n",
      "   macro avg       0.65      0.62      0.62       175\n",
      "weighted avg       0.70      0.73      0.71       175\n",
      "\n",
      "Confusion Matrix:\n",
      " [[ 18  31]\n",
      " [ 17 109]]\n"
     ]
    }
   ],
   "source": [
    "rf_cl = RandomForestClassifier()\n",
    "rf_cl.fit(X_train, Y_train)\n",
    "\n",
    "# train and test scores\n",
    "rf_train_score = round(rf_cl.score(X_train, Y_train) * 100, 2)\n",
    "rf_test_score = round(rf_cl.score(X_test, Y_test) * 100, 2)\n",
    "# predicted output\n",
    "Y_pred_rf = rf_cl.predict(X_test)\n",
    "\n",
    "print('Random Forest train score: ', rf_train_score)\n",
    "print('Random Forest test score: ', rf_test_score)\n",
    "print('Classification Report: \\n', classification_report(Y_test, Y_pred_rf))\n",
    "print('Confusion Matrix:\\n', confusion_matrix(Y_test, Y_pred_rf))"
   ]
  },
  {
   "cell_type": "markdown",
   "metadata": {
    "papermill": {
     "duration": 0.055824,
     "end_time": "2020-09-30T14:36:01.187422",
     "exception": false,
     "start_time": "2020-09-30T14:36:01.131598",
     "status": "completed"
    },
    "tags": []
   },
   "source": [
    "### 3. Using Support Vector Machines"
   ]
  },
  {
   "cell_type": "code",
   "execution_count": 29,
   "metadata": {
    "execution": {
     "iopub.execute_input": "2020-09-30T14:36:01.308667Z",
     "iopub.status.busy": "2020-09-30T14:36:01.307788Z",
     "iopub.status.idle": "2020-09-30T14:36:01.345327Z",
     "shell.execute_reply": "2020-09-30T14:36:01.345961Z"
    },
    "papermill": {
     "duration": 0.103621,
     "end_time": "2020-09-30T14:36:01.346163",
     "exception": false,
     "start_time": "2020-09-30T14:36:01.242542",
     "status": "completed"
    },
    "tags": []
   },
   "outputs": [
    {
     "name": "stdout",
     "output_type": "stream",
     "text": [
      "SVM train score:  71.08\n",
      "SVM score:  72.0\n",
      "Classification Report: \n",
      "               precision    recall  f1-score   support\n",
      "\n",
      "         0.0       0.00      0.00      0.00        49\n",
      "         1.0       0.72      1.00      0.84       126\n",
      "\n",
      "    accuracy                           0.72       175\n",
      "   macro avg       0.36      0.50      0.42       175\n",
      "weighted avg       0.52      0.72      0.60       175\n",
      "\n",
      "Confusion Matrix:\n",
      " [[  0  49]\n",
      " [  0 126]]\n"
     ]
    },
    {
     "name": "stderr",
     "output_type": "stream",
     "text": [
      "C:\\Users\\Dell\\anaconda3\\lib\\site-packages\\sklearn\\utils\\validation.py:63: DataConversionWarning: A column-vector y was passed when a 1d array was expected. Please change the shape of y to (n_samples, ), for example using ravel().\n",
      "  return f(*args, **kwargs)\n",
      "C:\\Users\\Dell\\anaconda3\\lib\\site-packages\\sklearn\\metrics\\_classification.py:1248: UndefinedMetricWarning: Precision and F-score are ill-defined and being set to 0.0 in labels with no predicted samples. Use `zero_division` parameter to control this behavior.\n",
      "  _warn_prf(average, modifier, msg_start, len(result))\n",
      "C:\\Users\\Dell\\anaconda3\\lib\\site-packages\\sklearn\\metrics\\_classification.py:1248: UndefinedMetricWarning: Precision and F-score are ill-defined and being set to 0.0 in labels with no predicted samples. Use `zero_division` parameter to control this behavior.\n",
      "  _warn_prf(average, modifier, msg_start, len(result))\n",
      "C:\\Users\\Dell\\anaconda3\\lib\\site-packages\\sklearn\\metrics\\_classification.py:1248: UndefinedMetricWarning: Precision and F-score are ill-defined and being set to 0.0 in labels with no predicted samples. Use `zero_division` parameter to control this behavior.\n",
      "  _warn_prf(average, modifier, msg_start, len(result))\n"
     ]
    }
   ],
   "source": [
    "svm_cl = svm.SVC()\n",
    "svm_cl.fit(X_train, Y_train)\n",
    "\n",
    "# train and test scores\n",
    "svm_train_score = round(svm_cl.score(X_train, Y_train) * 100, 2)\n",
    "svm_test_score = round(svm_cl.score(X_test, Y_test) * 100, 2)\n",
    "# predicted output\n",
    "Y_pred_svm = svm_cl.predict(X_test)\n",
    "\n",
    "print('SVM train score: ', svm_train_score)\n",
    "print('SVM score: ', svm_test_score)\n",
    "print('Classification Report: \\n', classification_report(Y_test, Y_pred_svm))\n",
    "print('Confusion Matrix:\\n', confusion_matrix(Y_test, Y_pred_svm))"
   ]
  },
  {
   "cell_type": "code",
   "execution_count": 33,
   "metadata": {},
   "outputs": [],
   "source": [
    "grid_param = {\n",
    "    \"n_estimators\" : [90,100,115,130],\n",
    "    'criterion': ['gini', 'entropy'],\n",
    "    'max_depth' : range(2,20,1),\n",
    "    'min_samples_leaf' : range(1,10,1),\n",
    "    'min_samples_split': range(2,10,1),\n",
    "    'max_features' : ['auto','log2']\n",
    "}"
   ]
  },
  {
   "cell_type": "code",
   "execution_count": 35,
   "metadata": {},
   "outputs": [],
   "source": [
    "from sklearn.model_selection import RandomizedSearchCV\n",
    "rand_search = RandomizedSearchCV(estimator=rf_cl,param_distributions=grid_param,cv=5,n_jobs =-1,verbose = 3)"
   ]
  },
  {
   "cell_type": "code",
   "execution_count": 37,
   "metadata": {},
   "outputs": [
    {
     "name": "stdout",
     "output_type": "stream",
     "text": [
      "Fitting 5 folds for each of 10 candidates, totalling 50 fits\n"
     ]
    },
    {
     "name": "stderr",
     "output_type": "stream",
     "text": [
      "C:\\Users\\Dell\\anaconda3\\lib\\site-packages\\sklearn\\model_selection\\_search.py:880: DataConversionWarning: A column-vector y was passed when a 1d array was expected. Please change the shape of y to (n_samples,), for example using ravel().\n",
      "  self.best_estimator_.fit(X, y, **fit_params)\n"
     ]
    },
    {
     "data": {
      "text/plain": [
       "RandomizedSearchCV(cv=5, estimator=RandomForestClassifier(), n_jobs=-1,\n",
       "                   param_distributions={'criterion': ['gini', 'entropy'],\n",
       "                                        'max_depth': range(2, 20),\n",
       "                                        'max_features': ['auto', 'log2'],\n",
       "                                        'min_samples_leaf': range(1, 10),\n",
       "                                        'min_samples_split': range(2, 10),\n",
       "                                        'n_estimators': [90, 100, 115, 130]},\n",
       "                   verbose=3)"
      ]
     },
     "execution_count": 37,
     "metadata": {},
     "output_type": "execute_result"
    }
   ],
   "source": [
    "rand_search.fit(X_train,Y_train)"
   ]
  },
  {
   "cell_type": "code",
   "execution_count": 38,
   "metadata": {},
   "outputs": [
    {
     "name": "stdout",
     "output_type": "stream",
     "text": [
      "{'n_estimators': 90, 'min_samples_split': 4, 'min_samples_leaf': 3, 'max_features': 'log2', 'max_depth': 5, 'criterion': 'gini'}\n"
     ]
    }
   ],
   "source": [
    "rand_search.best_params_\n",
    "print(rand_search.best_params_)"
   ]
  },
  {
   "cell_type": "code",
   "execution_count": 39,
   "metadata": {},
   "outputs": [
    {
     "data": {
      "text/plain": [
       "0.7183679614573922"
      ]
     },
     "execution_count": 39,
     "metadata": {},
     "output_type": "execute_result"
    }
   ],
   "source": [
    "rand_search.best_score_"
   ]
  },
  {
   "cell_type": "code",
   "execution_count": 40,
   "metadata": {},
   "outputs": [],
   "source": [
    "rand_clf = RandomForestClassifier(criterion= 'gini',\n",
    " max_depth = 5,\n",
    " max_features = 'log2',\n",
    " min_samples_leaf = 3,\n",
    " min_samples_split= 4,\n",
    " n_estimators = 90,random_state=6)"
   ]
  },
  {
   "cell_type": "code",
   "execution_count": 41,
   "metadata": {},
   "outputs": [
    {
     "name": "stderr",
     "output_type": "stream",
     "text": [
      "<ipython-input-41-80eec28f55cc>:1: DataConversionWarning: A column-vector y was passed when a 1d array was expected. Please change the shape of y to (n_samples,), for example using ravel().\n",
      "  rand_clf.fit(X_train,Y_train)\n"
     ]
    },
    {
     "data": {
      "text/plain": [
       "RandomForestClassifier(max_depth=5, max_features='log2', min_samples_leaf=3,\n",
       "                       min_samples_split=4, n_estimators=90, random_state=6)"
      ]
     },
     "execution_count": 41,
     "metadata": {},
     "output_type": "execute_result"
    }
   ],
   "source": [
    "rand_clf.fit(X_train,Y_train)"
   ]
  },
  {
   "cell_type": "code",
   "execution_count": 42,
   "metadata": {},
   "outputs": [
    {
     "data": {
      "text/plain": [
       "0.72"
      ]
     },
     "execution_count": 42,
     "metadata": {},
     "output_type": "execute_result"
    }
   ],
   "source": [
    "rand_clf.score(X_test,Y_test)"
   ]
  },
  {
   "cell_type": "code",
   "execution_count": 43,
   "metadata": {},
   "outputs": [],
   "source": [
    "from xgboost import XGBClassifier"
   ]
  },
  {
   "cell_type": "code",
   "execution_count": 45,
   "metadata": {},
   "outputs": [
    {
     "name": "stderr",
     "output_type": "stream",
     "text": [
      "C:\\Users\\Dell\\anaconda3\\lib\\site-packages\\xgboost\\sklearn.py:888: UserWarning: The use of label encoder in XGBClassifier is deprecated and will be removed in a future release. To remove this warning, do the following: 1) Pass option use_label_encoder=False when constructing XGBClassifier object; and 2) Encode your labels (y) as integers starting with 0, i.e. 0, 1, 2, ..., [num_class - 1].\n",
      "  warnings.warn(label_encoder_deprecation_msg, UserWarning)\n",
      "C:\\Users\\Dell\\anaconda3\\lib\\site-packages\\sklearn\\utils\\validation.py:63: DataConversionWarning: A column-vector y was passed when a 1d array was expected. Please change the shape of y to (n_samples, ), for example using ravel().\n",
      "  return f(*args, **kwargs)\n"
     ]
    },
    {
     "name": "stdout",
     "output_type": "stream",
     "text": [
      "[18:16:39] WARNING: C:/Users/Administrator/workspace/xgboost-win64_release_1.3.0/src/learner.cc:1061: Starting in XGBoost 1.3.0, the default evaluation metric used with the objective 'binary:logistic' was changed from 'error' to 'logloss'. Explicitly set eval_metric if you'd like to restore the old behavior.\n"
     ]
    },
    {
     "data": {
      "text/plain": [
       "XGBClassifier(base_score=0.5, booster='gbtree', colsample_bylevel=1,\n",
       "              colsample_bynode=1, colsample_bytree=1, gamma=0, gpu_id=-1,\n",
       "              importance_type='gain', interaction_constraints='',\n",
       "              learning_rate=0.300000012, max_delta_step=0, max_depth=6,\n",
       "              min_child_weight=1, missing=nan, monotone_constraints='()',\n",
       "              n_estimators=100, n_jobs=4, num_parallel_tree=1, random_state=0,\n",
       "              reg_alpha=0, reg_lambda=1, scale_pos_weight=1, subsample=1,\n",
       "              tree_method='exact', validate_parameters=1, verbosity=None)"
      ]
     },
     "execution_count": 45,
     "metadata": {},
     "output_type": "execute_result"
    }
   ],
   "source": [
    "# fit model no training data\n",
    "model = XGBClassifier(objective='binary:logistic')\n",
    "model.fit(X_train, Y_train)"
   ]
  },
  {
   "cell_type": "code",
   "execution_count": 46,
   "metadata": {},
   "outputs": [
    {
     "data": {
      "text/plain": [
       "0.7428571428571429"
      ]
     },
     "execution_count": 46,
     "metadata": {},
     "output_type": "execute_result"
    }
   ],
   "source": [
    "model.score(X_test,Y_test)"
   ]
  },
  {
   "cell_type": "code",
   "execution_count": 47,
   "metadata": {},
   "outputs": [],
   "source": [
    "import scipy.stats as stats"
   ]
  },
  {
   "cell_type": "code",
   "execution_count": 48,
   "metadata": {},
   "outputs": [],
   "source": [
    "param_dist = {'n_estimators':[90,100,115,130],\n",
    "              'learning_rate': stats.uniform(0.01, 0.6),\n",
    "              'subsample': stats.uniform(0.3, 0.9),\n",
    "              'max_depth': [3, 4, 5, 6, 7, 8, 9],\n",
    "              'colsample_bytree': stats.uniform(0.5, 0.9),\n",
    "              'min_child_weight': [1, 2, 3, 4]\n",
    "             }"
   ]
  },
  {
   "cell_type": "code",
   "execution_count": 49,
   "metadata": {},
   "outputs": [],
   "source": [
    "clf = RandomizedSearchCV(model, param_distributions = param_dist, n_iter = 25, scoring = 'accuracy', error_score = 0, verbose = 3, n_jobs = -1)\n"
   ]
  },
  {
   "cell_type": "code",
   "execution_count": 50,
   "metadata": {},
   "outputs": [
    {
     "name": "stdout",
     "output_type": "stream",
     "text": [
      "Fitting 5 folds for each of 25 candidates, totalling 125 fits\n",
      "[18:17:30] WARNING: C:/Users/Administrator/workspace/xgboost-win64_release_1.3.0/src/learner.cc:1061: Starting in XGBoost 1.3.0, the default evaluation metric used with the objective 'binary:logistic' was changed from 'error' to 'logloss'. Explicitly set eval_metric if you'd like to restore the old behavior.\n"
     ]
    },
    {
     "name": "stderr",
     "output_type": "stream",
     "text": [
      "C:\\Users\\Dell\\anaconda3\\lib\\site-packages\\xgboost\\sklearn.py:888: UserWarning: The use of label encoder in XGBClassifier is deprecated and will be removed in a future release. To remove this warning, do the following: 1) Pass option use_label_encoder=False when constructing XGBClassifier object; and 2) Encode your labels (y) as integers starting with 0, i.e. 0, 1, 2, ..., [num_class - 1].\n",
      "  warnings.warn(label_encoder_deprecation_msg, UserWarning)\n",
      "C:\\Users\\Dell\\anaconda3\\lib\\site-packages\\sklearn\\utils\\validation.py:63: DataConversionWarning: A column-vector y was passed when a 1d array was expected. Please change the shape of y to (n_samples, ), for example using ravel().\n",
      "  return f(*args, **kwargs)\n"
     ]
    },
    {
     "data": {
      "text/plain": [
       "RandomizedSearchCV(error_score=0,\n",
       "                   estimator=XGBClassifier(base_score=0.5, booster='gbtree',\n",
       "                                           colsample_bylevel=1,\n",
       "                                           colsample_bynode=1,\n",
       "                                           colsample_bytree=1, gamma=0,\n",
       "                                           gpu_id=-1, importance_type='gain',\n",
       "                                           interaction_constraints='',\n",
       "                                           learning_rate=0.300000012,\n",
       "                                           max_delta_step=0, max_depth=6,\n",
       "                                           min_child_weight=1, missing=nan,\n",
       "                                           monotone_constraints='()',\n",
       "                                           n_estimators=100, n_jobs...\n",
       "                   param_distributions={'colsample_bytree': <scipy.stats._distn_infrastructure.rv_frozen object at 0x000001812DF317F0>,\n",
       "                                        'learning_rate': <scipy.stats._distn_infrastructure.rv_frozen object at 0x000001812DF312B0>,\n",
       "                                        'max_depth': [3, 4, 5, 6, 7, 8, 9],\n",
       "                                        'min_child_weight': [1, 2, 3, 4],\n",
       "                                        'n_estimators': [90, 100, 115, 130],\n",
       "                                        'subsample': <scipy.stats._distn_infrastructure.rv_frozen object at 0x000001812DF31550>},\n",
       "                   scoring='accuracy', verbose=3)"
      ]
     },
     "execution_count": 50,
     "metadata": {},
     "output_type": "execute_result"
    }
   ],
   "source": [
    "clf.fit(X_train,Y_train)"
   ]
  },
  {
   "cell_type": "code",
   "execution_count": 51,
   "metadata": {},
   "outputs": [
    {
     "data": {
      "text/plain": [
       "{'colsample_bytree': 0.694692051272619,\n",
       " 'learning_rate': 0.011862311601127575,\n",
       " 'max_depth': 9,\n",
       " 'min_child_weight': 3,\n",
       " 'n_estimators': 115,\n",
       " 'subsample': 0.4826383051175943}"
      ]
     },
     "execution_count": 51,
     "metadata": {},
     "output_type": "execute_result"
    }
   ],
   "source": [
    "clf.best_params_"
   ]
  },
  {
   "cell_type": "code",
   "execution_count": 52,
   "metadata": {},
   "outputs": [],
   "source": [
    "Xgboost_clf = XGBClassifier(colsample_bytree=  0.694692051272619,\n",
    " learning_rate= 0.011862311601127575,\n",
    " max_depth=9,\n",
    " min_child_weight= 3,\n",
    " n_estimators= 115,\n",
    " subsample=0.4826383051175943)"
   ]
  },
  {
   "cell_type": "code",
   "execution_count": 53,
   "metadata": {},
   "outputs": [
    {
     "name": "stdout",
     "output_type": "stream",
     "text": [
      "[18:18:22] WARNING: C:/Users/Administrator/workspace/xgboost-win64_release_1.3.0/src/learner.cc:1061: Starting in XGBoost 1.3.0, the default evaluation metric used with the objective 'binary:logistic' was changed from 'error' to 'logloss'. Explicitly set eval_metric if you'd like to restore the old behavior.\n"
     ]
    },
    {
     "data": {
      "text/plain": [
       "XGBClassifier(base_score=0.5, booster='gbtree', colsample_bylevel=1,\n",
       "              colsample_bynode=1, colsample_bytree=0.694692051272619, gamma=0,\n",
       "              gpu_id=-1, importance_type='gain', interaction_constraints='',\n",
       "              learning_rate=0.011862311601127575, max_delta_step=0, max_depth=9,\n",
       "              min_child_weight=3, missing=nan, monotone_constraints='()',\n",
       "              n_estimators=115, n_jobs=4, num_parallel_tree=1, random_state=0,\n",
       "              reg_alpha=0, reg_lambda=1, scale_pos_weight=1,\n",
       "              subsample=0.4826383051175943, tree_method='exact',\n",
       "              validate_parameters=1, verbosity=None)"
      ]
     },
     "execution_count": 53,
     "metadata": {},
     "output_type": "execute_result"
    }
   ],
   "source": [
    "Xgboost_clf.fit(X_train,Y_train)"
   ]
  },
  {
   "cell_type": "code",
   "execution_count": 54,
   "metadata": {},
   "outputs": [],
   "source": [
    "y_pred1=Xgboost_clf.predict(X_test)"
   ]
  },
  {
   "cell_type": "code",
   "execution_count": 56,
   "metadata": {},
   "outputs": [],
   "source": [
    "acc1=accuracy_score(y_pred1,Y_test)"
   ]
  },
  {
   "cell_type": "code",
   "execution_count": 57,
   "metadata": {},
   "outputs": [
    {
     "data": {
      "text/plain": [
       "0.7371428571428571"
      ]
     },
     "execution_count": 57,
     "metadata": {},
     "output_type": "execute_result"
    }
   ],
   "source": [
    "acc1"
   ]
  },
  {
   "cell_type": "code",
   "execution_count": 58,
   "metadata": {},
   "outputs": [],
   "source": [
    "from sklearn.metrics import roc_curve"
   ]
  },
  {
   "cell_type": "code",
   "execution_count": 61,
   "metadata": {},
   "outputs": [],
   "source": [
    "y_score1 = Xgboost_clf.predict_proba(X_test)[:,1]\n",
    "y_score2 = rand_clf.predict_proba(X_test)[:,1]"
   ]
  },
  {
   "cell_type": "code",
   "execution_count": 62,
   "metadata": {},
   "outputs": [],
   "source": [
    "false_positive_rate1, true_positive_rate1, threshold1 = roc_curve(Y_test, y_score1)\n",
    "false_positive_rate2, true_positive_rate2, threshold2 = roc_curve(Y_test, y_score2)"
   ]
  },
  {
   "cell_type": "code",
   "execution_count": 63,
   "metadata": {},
   "outputs": [
    {
     "data": {
      "image/png": "[encoded data removed]",
      "text/plain": [
       "<Figure size 720x720 with 1 Axes>"
      ]
     },
     "metadata": {
      "needs_background": "light"
     },
     "output_type": "display_data"
    },
    {
     "data": {
      "image/png": "[encoded data removed]",
      "text/plain": [
       "<Figure size 720x720 with 1 Axes>"
      ]
     },
     "metadata": {
      "needs_background": "light"
     },
     "output_type": "display_data"
    }
   ],
   "source": [
    "plt.subplots(1, figsize=(10,10))\n",
    "plt.title('Receiver Operating Characteristic - XgBoost')\n",
    "plt.plot(false_positive_rate1, true_positive_rate1)\n",
    "plt.plot([0, 1], ls=\"--\")\n",
    "plt.plot([0, 0], [1, 0] , c=\".7\"), plt.plot([1, 1] , c=\".7\")\n",
    "plt.ylabel('True Positive Rate')\n",
    "plt.xlabel('False Positive Rate')\n",
    "plt.show()\n",
    "\n",
    "plt.subplots(1, figsize=(10,10))\n",
    "plt.title('Receiver Operating Characteristic - RandomForest')\n",
    "plt.plot(false_positive_rate2, true_positive_rate2)\n",
    "plt.plot([0, 1], ls=\"--\")\n",
    "plt.plot([0, 0], [1, 0] , c=\".7\"), plt.plot([1, 1] , c=\".7\")\n",
    "plt.ylabel('True Positive Rate')\n",
    "plt.xlabel('False Positive Rate')\n",
    "plt.show()"
   ]
  },
  {
   "cell_type": "code",
   "execution_count": 64,
   "metadata": {},
   "outputs": [],
   "source": [
    "from sklearn.metrics import roc_auc_score"
   ]
  },
  {
   "cell_type": "code",
   "execution_count": 66,
   "metadata": {},
   "outputs": [
    {
     "name": "stdout",
     "output_type": "stream",
     "text": [
      "roc_auc_score for XgBoost:  0.7236799481697441\n",
      "roc_auc_score for Random Forest:  0.7309685779073534\n"
     ]
    }
   ],
   "source": [
    "print('roc_auc_score for XgBoost: ', roc_auc_score(Y_test, y_score1))\n",
    "print('roc_auc_score for Random Forest: ', roc_auc_score(Y_test, y_score2))"
   ]
  },
  {
   "cell_type": "code",
   "execution_count": 67,
   "metadata": {},
   "outputs": [],
   "source": [
    "import pickle"
   ]
  },
  {
   "cell_type": "code",
   "execution_count": 68,
   "metadata": {},
   "outputs": [],
   "source": [
    "with open(r'E:\\College Project\\Liver Disease Deployment'+ '/modelForPrediction.pkl', 'wb') as f:\n",
    "    pickle.dump(rand_clf,f)"
   ]
  },
  {
   "cell_type": "code",
   "execution_count": null,
   "metadata": {},
   "outputs": [],
   "source": []
  }
 ],
 "metadata": {
  "kernelspec": {
   "display_name": "Python 3",
   "language": "python",
   "name": "python3"
  },
  "language_info": {
   "codemirror_mode": {
    "name": "ipython",
    "version": 3
   },
   "file_extension": ".py",
   "mimetype": "text/x-python",
   "name": "python",
   "nbconvert_exporter": "python",
   "pygments_lexer": "ipython3",
   "version": "3.8.5"
  },
  "papermill": {
   "duration": 16.035333,
   "end_time": "2020-09-30T14:36:02.416718",
   "environment_variables": {},
   "exception": null,
   "input_path": "__notebook__.ipynb",
   "output_path": "__notebook__.ipynb",
   "parameters": {},
   "start_time": "2020-09-30T14:35:46.381385",
   "version": "2.1.0"
  }
 },
 "nbformat": 4,
 "nbformat_minor": 4
}
